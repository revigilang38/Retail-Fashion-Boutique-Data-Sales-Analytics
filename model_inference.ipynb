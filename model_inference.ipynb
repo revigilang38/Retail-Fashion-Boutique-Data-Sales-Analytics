{
  "cells": [
    {
      "cell_type": "markdown",
      "metadata": {
        "id": "KJJixH47T4VL"
      },
      "source": [
        "#Model Inference"
      ]
    },
    {
      "cell_type": "code",
      "execution_count": 3,
      "metadata": {
        "id": "la-zua98Ticv"
      },
      "outputs": [],
      "source": [
        "import pandas as pd\n",
        "import joblib"
      ]
    },
    {
      "cell_type": "code",
      "execution_count": 4,
      "metadata": {
        "id": "hM2U-JD3T6VM"
      },
      "outputs": [],
      "source": [
        "# Load the saved model\n",
        "model = joblib.load(\"knn_tuned_pipeline.pkl\")"
      ]
    },
    {
      "cell_type": "code",
      "execution_count": 5,
      "metadata": {
        "colab": {
          "base_uri": "https://localhost:8080/",
          "height": 89
        },
        "id": "aXmxJnBsUYsX",
        "outputId": "5c0fea50-67f2-4a37-a24b-2e95deb2cfb3"
      },
      "outputs": [
        {
          "data": {
            "text/html": [
              "<div>\n",
              "<style scoped>\n",
              "    .dataframe tbody tr th:only-of-type {\n",
              "        vertical-align: middle;\n",
              "    }\n",
              "\n",
              "    .dataframe tbody tr th {\n",
              "        vertical-align: top;\n",
              "    }\n",
              "\n",
              "    .dataframe thead th {\n",
              "        text-align: right;\n",
              "    }\n",
              "</style>\n",
              "<table border=\"1\" class=\"dataframe\">\n",
              "  <thead>\n",
              "    <tr style=\"text-align: right;\">\n",
              "      <th></th>\n",
              "      <th>category</th>\n",
              "      <th>brand</th>\n",
              "      <th>season</th>\n",
              "      <th>size</th>\n",
              "      <th>color</th>\n",
              "      <th>original_price</th>\n",
              "      <th>markdown_percentage</th>\n",
              "      <th>stock_quantity</th>\n",
              "      <th>customer_rating</th>\n",
              "    </tr>\n",
              "  </thead>\n",
              "  <tbody>\n",
              "    <tr>\n",
              "      <th>0</th>\n",
              "      <td>Outerwear</td>\n",
              "      <td>Ann Taylor</td>\n",
              "      <td>Summer</td>\n",
              "      <td>L</td>\n",
              "      <td>Green</td>\n",
              "      <td>179.99</td>\n",
              "      <td>20.0</td>\n",
              "      <td>12</td>\n",
              "      <td>3.5</td>\n",
              "    </tr>\n",
              "  </tbody>\n",
              "</table>\n",
              "</div>"
            ],
            "text/plain": [
              "    category       brand  season size  color  original_price  \\\n",
              "0  Outerwear  Ann Taylor  Summer    L  Green          179.99   \n",
              "\n",
              "   markdown_percentage  stock_quantity  customer_rating  \n",
              "0                 20.0              12              3.5  "
            ]
          },
          "execution_count": 5,
          "metadata": {},
          "output_type": "execute_result"
        }
      ],
      "source": [
        "new_data = pd.DataFrame([{\n",
        "    \"category\": \"Outerwear\",\n",
        "    \"brand\": \"Ann Taylor\",\n",
        "    \"season\": \"Summer\",\n",
        "    \"size\": \"L\",\n",
        "    \"color\": \"Green\",\n",
        "    \"original_price\": 179.99,\n",
        "    \"markdown_percentage\": 20.0,\n",
        "    \"stock_quantity\": 12,\n",
        "    \"customer_rating\": 3.5\n",
        "}])\n",
        "\n",
        "new_data"
      ]
    },
    {
      "cell_type": "code",
      "execution_count": 6,
      "metadata": {
        "id": "iMXjrHxlUf93"
      },
      "outputs": [],
      "source": [
        "prediction = model.predict(new_data)\n",
        "prediction_proba = model.predict_proba(new_data)"
      ]
    },
    {
      "cell_type": "code",
      "execution_count": 7,
      "metadata": {
        "colab": {
          "base_uri": "https://localhost:8080/"
        },
        "id": "4ABQMS86Ut1c",
        "outputId": "367658e2-9dc4-4b94-c568-0934d851409c"
      },
      "outputs": [
        {
          "name": "stdout",
          "output_type": "stream",
          "text": [
            "Hasil Prediksi: Returned\n"
          ]
        }
      ],
      "source": [
        "if prediction[0] == 1:\n",
        "    pred_label = \"Returned\"\n",
        "else:\n",
        "    pred_label = \"Not Returned\"\n",
        "\n",
        "print(f\"Hasil Prediksi: {pred_label}\")"
      ]
    }
  ],
  "metadata": {
    "colab": {
      "provenance": []
    },
    "kernelspec": {
      "display_name": "phase_0",
      "language": "python",
      "name": "python3"
    },
    "language_info": {
      "codemirror_mode": {
        "name": "ipython",
        "version": 3
      },
      "file_extension": ".py",
      "mimetype": "text/x-python",
      "name": "python",
      "nbconvert_exporter": "python",
      "pygments_lexer": "ipython3",
      "version": "3.10.16"
    }
  },
  "nbformat": 4,
  "nbformat_minor": 0
}
