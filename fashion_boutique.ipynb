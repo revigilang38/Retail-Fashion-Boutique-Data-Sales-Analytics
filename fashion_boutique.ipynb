{
  "cells": [
    {
      "cell_type": "markdown",
      "metadata": {
        "id": "Ni78tycn4GXe"
      },
      "source": [
        "## **Latar Belakang**\n",
        "Industri fashion boutique merupakan salah satu sektor yang berkembang pesat dalam dunia bisnis. Pelaku usaha di bidang ini menghadapi berbagai tantangan, mulai dari mengelola stok, menentukan strategi harga, hingga mengatasi tingginya tingkat pengembalian barang (return rate).\n",
        "Retur yang tinggi dapat menggerus margin keuntungan, menambah beban logistik, dan menurunkan kepuasan pelanggan. Oleh karena itu, perusahaan perlu memahami pola penjualan, tren musiman, perilaku belanja pelanggan, dan faktor-faktor yang memengaruhi pengembalian produk.\n",
        "Dengan pemanfaatan analisis data dan machine learning, bisnis dapat memprediksi kemungkinan suatu produk akan dikembalikan sehingga strategi pencegahan dapat dilakukan sejak awal.\n",
        "\n",
        "## **Objective**\n",
        "\n",
        "Tujuan dari project ini adalah membangun model machine learning untuk memprediksi return rate suatu produk berdasarkan atribut yang tersedia. Dengan model ini dapat melakukan:\n",
        "\n",
        "- Mengantisipasi produk yang berisiko tinggi diretur dan mengurangi kerugian akibat retur serta biaya logistik\n",
        "- Menganalisis tren penjualan berdasarkan kategori produk, merk, musim, dan harga\n",
        "- Mengidentifikasi faktor-faktor utama yang memicu pengembalian produk\n",
        "- Memberikan rekomendasi strategi diskon dan pengelolaan stok yang lebih efektif\n",
        "\n",
        "## **Dataset**\n",
        "Dataset yang digunakan berjudul **Retail Fashion Boutique Data Sales Analytics 2025** yang bersumber dari Kaggle. Dataset ini berisi penjualan produk fashion dari berbagai merek terkenal dengan atribut seperti kategori produk, musim, ukuran, warna, harga, diskon, stok, rating pelanggan, status retur, dan alasan retur.\n",
        "\n",
        "Link dataset  : https://www.kaggle.com/datasets/pratyushpuri/retail-fashion-boutique-data-sales-analytics-2025?resource=download"
      ]
    },
    {
      "cell_type": "markdown",
      "metadata": {
        "id": "zL3mwGtK3rwB"
      },
      "source": [
        "# Import Libraries"
      ]
    },
    {
      "cell_type": "code",
      "execution_count": 1,
      "metadata": {
        "id": "hqbi2PXqAA87"
      },
      "outputs": [],
      "source": [
        "# data manipulation\n",
        "import pandas as pd\n",
        "import numpy as np\n",
        "\n",
        "# visualization\n",
        "import matplotlib.pyplot as plt\n",
        "import seaborn as sns\n",
        "\n",
        "# preprocessing\n",
        "from sklearn.model_selection import train_test_split, cross_val_score, GridSearchCV, RandomizedSearchCV, cross_validate, StratifiedKFold\n",
        "from sklearn.preprocessing import StandardScaler, OneHotEncoder, RobustScaler\n",
        "from sklearn.compose import ColumnTransformer\n",
        "from sklearn.pipeline import Pipeline\n",
        "from sklearn.impute import SimpleImputer\n",
        "from scipy import stats\n",
        "from scipy.stats import kendalltau, spearmanr\n",
        "\n",
        "# model\n",
        "from sklearn.neighbors import KNeighborsClassifier\n",
        "from sklearn.svm import SVC\n",
        "from sklearn.tree import DecisionTreeClassifier\n",
        "from sklearn.ensemble import RandomForestClassifier, GradientBoostingClassifier\n",
        "from imblearn.over_sampling import SMOTE\n",
        "from imblearn.pipeline import Pipeline as ImbPipeline\n",
        "\n",
        "\n",
        "# evaluation\n",
        "from sklearn.metrics import classification_report, confusion_matrix, f1_score, average_precision_score, recall_score, roc_auc_score, make_scorer, balanced_accuracy_score, accuracy_score\n",
        "\n",
        "# saving\n",
        "import joblib\n"
      ]
    },
    {
      "cell_type": "markdown",
      "metadata": {
        "id": "UgA2fHne3usf"
      },
      "source": [
        "# Data Loading"
      ]
    },
    {
      "cell_type": "code",
      "execution_count": 2,
      "metadata": {
        "colab": {
          "base_uri": "https://localhost:8080/",
          "height": 244
        },
        "id": "KLY9voJFA34h",
        "outputId": "b9bf3452-4b3d-45df-82b1-5eda2c5b8f56"
      },
      "outputs": [
        {
          "data": {
            "text/html": [
              "<div>\n",
              "<style scoped>\n",
              "    .dataframe tbody tr th:only-of-type {\n",
              "        vertical-align: middle;\n",
              "    }\n",
              "\n",
              "    .dataframe tbody tr th {\n",
              "        vertical-align: top;\n",
              "    }\n",
              "\n",
              "    .dataframe thead th {\n",
              "        text-align: right;\n",
              "    }\n",
              "</style>\n",
              "<table border=\"1\" class=\"dataframe\">\n",
              "  <thead>\n",
              "    <tr style=\"text-align: right;\">\n",
              "      <th></th>\n",
              "      <th>product_id</th>\n",
              "      <th>category</th>\n",
              "      <th>brand</th>\n",
              "      <th>season</th>\n",
              "      <th>size</th>\n",
              "      <th>color</th>\n",
              "      <th>original_price</th>\n",
              "      <th>markdown_percentage</th>\n",
              "      <th>current_price</th>\n",
              "      <th>purchase_date</th>\n",
              "      <th>stock_quantity</th>\n",
              "      <th>customer_rating</th>\n",
              "      <th>is_returned</th>\n",
              "      <th>return_reason</th>\n",
              "    </tr>\n",
              "  </thead>\n",
              "  <tbody>\n",
              "    <tr>\n",
              "      <th>0</th>\n",
              "      <td>FB000001</td>\n",
              "      <td>Outerwear</td>\n",
              "      <td>Zara</td>\n",
              "      <td>Spring</td>\n",
              "      <td>XL</td>\n",
              "      <td>Red</td>\n",
              "      <td>196.01</td>\n",
              "      <td>0.0</td>\n",
              "      <td>196.01</td>\n",
              "      <td>2025-07-05</td>\n",
              "      <td>37</td>\n",
              "      <td>3.0</td>\n",
              "      <td>False</td>\n",
              "      <td>NaN</td>\n",
              "    </tr>\n",
              "    <tr>\n",
              "      <th>1</th>\n",
              "      <td>FB000002</td>\n",
              "      <td>Tops</td>\n",
              "      <td>Uniqlo</td>\n",
              "      <td>Winter</td>\n",
              "      <td>L</td>\n",
              "      <td>Pink</td>\n",
              "      <td>119.64</td>\n",
              "      <td>0.0</td>\n",
              "      <td>119.64</td>\n",
              "      <td>2025-08-06</td>\n",
              "      <td>2</td>\n",
              "      <td>2.5</td>\n",
              "      <td>False</td>\n",
              "      <td>NaN</td>\n",
              "    </tr>\n",
              "    <tr>\n",
              "      <th>2</th>\n",
              "      <td>FB000003</td>\n",
              "      <td>Accessories</td>\n",
              "      <td>Uniqlo</td>\n",
              "      <td>Winter</td>\n",
              "      <td>NaN</td>\n",
              "      <td>Black</td>\n",
              "      <td>33.80</td>\n",
              "      <td>0.0</td>\n",
              "      <td>33.80</td>\n",
              "      <td>2025-08-06</td>\n",
              "      <td>22</td>\n",
              "      <td>4.3</td>\n",
              "      <td>False</td>\n",
              "      <td>NaN</td>\n",
              "    </tr>\n",
              "    <tr>\n",
              "      <th>3</th>\n",
              "      <td>FB000004</td>\n",
              "      <td>Shoes</td>\n",
              "      <td>Uniqlo</td>\n",
              "      <td>Spring</td>\n",
              "      <td>XL</td>\n",
              "      <td>Black</td>\n",
              "      <td>75.36</td>\n",
              "      <td>0.0</td>\n",
              "      <td>75.36</td>\n",
              "      <td>2025-07-07</td>\n",
              "      <td>48</td>\n",
              "      <td>2.6</td>\n",
              "      <td>False</td>\n",
              "      <td>NaN</td>\n",
              "    </tr>\n",
              "    <tr>\n",
              "      <th>4</th>\n",
              "      <td>FB000005</td>\n",
              "      <td>Tops</td>\n",
              "      <td>Banana Republic</td>\n",
              "      <td>Winter</td>\n",
              "      <td>XL</td>\n",
              "      <td>Black</td>\n",
              "      <td>105.02</td>\n",
              "      <td>0.0</td>\n",
              "      <td>105.02</td>\n",
              "      <td>2025-08-06</td>\n",
              "      <td>10</td>\n",
              "      <td>NaN</td>\n",
              "      <td>False</td>\n",
              "      <td>NaN</td>\n",
              "    </tr>\n",
              "  </tbody>\n",
              "</table>\n",
              "</div>"
            ],
            "text/plain": [
              "  product_id     category            brand  season size  color  \\\n",
              "0   FB000001    Outerwear             Zara  Spring   XL    Red   \n",
              "1   FB000002         Tops           Uniqlo  Winter    L   Pink   \n",
              "2   FB000003  Accessories           Uniqlo  Winter  NaN  Black   \n",
              "3   FB000004        Shoes           Uniqlo  Spring   XL  Black   \n",
              "4   FB000005         Tops  Banana Republic  Winter   XL  Black   \n",
              "\n",
              "   original_price  markdown_percentage  current_price purchase_date  \\\n",
              "0          196.01                  0.0         196.01    2025-07-05   \n",
              "1          119.64                  0.0         119.64    2025-08-06   \n",
              "2           33.80                  0.0          33.80    2025-08-06   \n",
              "3           75.36                  0.0          75.36    2025-07-07   \n",
              "4          105.02                  0.0         105.02    2025-08-06   \n",
              "\n",
              "   stock_quantity  customer_rating  is_returned return_reason  \n",
              "0              37              3.0        False           NaN  \n",
              "1               2              2.5        False           NaN  \n",
              "2              22              4.3        False           NaN  \n",
              "3              48              2.6        False           NaN  \n",
              "4              10              NaN        False           NaN  "
            ]
          },
          "execution_count": 2,
          "metadata": {},
          "output_type": "execute_result"
        }
      ],
      "source": [
        "df = pd.read_csv('fashion_boutique_dataset.csv')\n",
        "df.head()"
      ]
    },
    {
      "cell_type": "code",
      "execution_count": 3,
      "metadata": {
        "colab": {
          "base_uri": "https://localhost:8080/"
        },
        "id": "-95ycrGlBOno",
        "outputId": "2e002d16-6e60-4080-b5e5-f48b1eee1705"
      },
      "outputs": [
        {
          "name": "stdout",
          "output_type": "stream",
          "text": [
            "<class 'pandas.core.frame.DataFrame'>\n",
            "RangeIndex: 2176 entries, 0 to 2175\n",
            "Data columns (total 14 columns):\n",
            " #   Column               Non-Null Count  Dtype  \n",
            "---  ------               --------------  -----  \n",
            " 0   product_id           2176 non-null   object \n",
            " 1   category             2176 non-null   object \n",
            " 2   brand                2176 non-null   object \n",
            " 3   season               2176 non-null   object \n",
            " 4   size                 1685 non-null   object \n",
            " 5   color                2176 non-null   object \n",
            " 6   original_price       2176 non-null   float64\n",
            " 7   markdown_percentage  2176 non-null   float64\n",
            " 8   current_price        2176 non-null   float64\n",
            " 9   purchase_date        2176 non-null   object \n",
            " 10  stock_quantity       2176 non-null   int64  \n",
            " 11  customer_rating      1814 non-null   float64\n",
            " 12  is_returned          2176 non-null   bool   \n",
            " 13  return_reason        320 non-null    object \n",
            "dtypes: bool(1), float64(4), int64(1), object(8)\n",
            "memory usage: 223.2+ KB\n"
          ]
        }
      ],
      "source": [
        "df.info()"
      ]
    },
    {
      "cell_type": "markdown",
      "metadata": {
        "id": "dLihj4T4Bnl-"
      },
      "source": [
        "**INSIGHT**\n",
        "1. Terdapat 14 Kolom\n",
        "  - 1 Kolom Boolean\n",
        "  - 4 Kolom float\n",
        "  - 1 kolom int\n",
        "  - 8 kolom object\n",
        "2. Memiliki 2176 baris data\n",
        "\n",
        "**NEXT ACTION**\n",
        "1. Kolom purchase date ubah tipe data menjadi datetime"
      ]
    },
    {
      "cell_type": "code",
      "execution_count": 4,
      "metadata": {
        "colab": {
          "base_uri": "https://localhost:8080/",
          "height": 531
        },
        "id": "twKBIWfFOavW",
        "outputId": "35419f91-a738-41ad-9574-0902d2195afb"
      },
      "outputs": [
        {
          "data": {
            "text/html": [
              "<div>\n",
              "<style scoped>\n",
              "    .dataframe tbody tr th:only-of-type {\n",
              "        vertical-align: middle;\n",
              "    }\n",
              "\n",
              "    .dataframe tbody tr th {\n",
              "        vertical-align: top;\n",
              "    }\n",
              "\n",
              "    .dataframe thead th {\n",
              "        text-align: right;\n",
              "    }\n",
              "</style>\n",
              "<table border=\"1\" class=\"dataframe\">\n",
              "  <thead>\n",
              "    <tr style=\"text-align: right;\">\n",
              "      <th></th>\n",
              "      <th>product_id</th>\n",
              "      <th>category</th>\n",
              "      <th>brand</th>\n",
              "      <th>season</th>\n",
              "      <th>size</th>\n",
              "      <th>color</th>\n",
              "      <th>original_price</th>\n",
              "      <th>markdown_percentage</th>\n",
              "      <th>current_price</th>\n",
              "      <th>purchase_date</th>\n",
              "      <th>stock_quantity</th>\n",
              "      <th>customer_rating</th>\n",
              "      <th>is_returned</th>\n",
              "      <th>return_reason</th>\n",
              "    </tr>\n",
              "  </thead>\n",
              "  <tbody>\n",
              "    <tr>\n",
              "      <th>0</th>\n",
              "      <td>FB000001</td>\n",
              "      <td>Outerwear</td>\n",
              "      <td>Zara</td>\n",
              "      <td>Spring</td>\n",
              "      <td>XL</td>\n",
              "      <td>Red</td>\n",
              "      <td>196.01</td>\n",
              "      <td>0.0</td>\n",
              "      <td>196.01</td>\n",
              "      <td>2025-07-05</td>\n",
              "      <td>37</td>\n",
              "      <td>3.0</td>\n",
              "      <td>False</td>\n",
              "      <td>NaN</td>\n",
              "    </tr>\n",
              "    <tr>\n",
              "      <th>1</th>\n",
              "      <td>FB000002</td>\n",
              "      <td>Tops</td>\n",
              "      <td>Uniqlo</td>\n",
              "      <td>Winter</td>\n",
              "      <td>L</td>\n",
              "      <td>Pink</td>\n",
              "      <td>119.64</td>\n",
              "      <td>0.0</td>\n",
              "      <td>119.64</td>\n",
              "      <td>2025-08-06</td>\n",
              "      <td>2</td>\n",
              "      <td>2.5</td>\n",
              "      <td>False</td>\n",
              "      <td>NaN</td>\n",
              "    </tr>\n",
              "    <tr>\n",
              "      <th>2</th>\n",
              "      <td>FB000003</td>\n",
              "      <td>Accessories</td>\n",
              "      <td>Uniqlo</td>\n",
              "      <td>Winter</td>\n",
              "      <td>NaN</td>\n",
              "      <td>Black</td>\n",
              "      <td>33.80</td>\n",
              "      <td>0.0</td>\n",
              "      <td>33.80</td>\n",
              "      <td>2025-08-06</td>\n",
              "      <td>22</td>\n",
              "      <td>4.3</td>\n",
              "      <td>False</td>\n",
              "      <td>NaN</td>\n",
              "    </tr>\n",
              "    <tr>\n",
              "      <th>3</th>\n",
              "      <td>FB000004</td>\n",
              "      <td>Shoes</td>\n",
              "      <td>Uniqlo</td>\n",
              "      <td>Spring</td>\n",
              "      <td>XL</td>\n",
              "      <td>Black</td>\n",
              "      <td>75.36</td>\n",
              "      <td>0.0</td>\n",
              "      <td>75.36</td>\n",
              "      <td>2025-07-07</td>\n",
              "      <td>48</td>\n",
              "      <td>2.6</td>\n",
              "      <td>False</td>\n",
              "      <td>NaN</td>\n",
              "    </tr>\n",
              "    <tr>\n",
              "      <th>4</th>\n",
              "      <td>FB000005</td>\n",
              "      <td>Tops</td>\n",
              "      <td>Banana Republic</td>\n",
              "      <td>Winter</td>\n",
              "      <td>XL</td>\n",
              "      <td>Black</td>\n",
              "      <td>105.02</td>\n",
              "      <td>0.0</td>\n",
              "      <td>105.02</td>\n",
              "      <td>2025-08-06</td>\n",
              "      <td>10</td>\n",
              "      <td>NaN</td>\n",
              "      <td>False</td>\n",
              "      <td>NaN</td>\n",
              "    </tr>\n",
              "    <tr>\n",
              "      <th>...</th>\n",
              "      <td>...</td>\n",
              "      <td>...</td>\n",
              "      <td>...</td>\n",
              "      <td>...</td>\n",
              "      <td>...</td>\n",
              "      <td>...</td>\n",
              "      <td>...</td>\n",
              "      <td>...</td>\n",
              "      <td>...</td>\n",
              "      <td>...</td>\n",
              "      <td>...</td>\n",
              "      <td>...</td>\n",
              "      <td>...</td>\n",
              "      <td>...</td>\n",
              "    </tr>\n",
              "    <tr>\n",
              "      <th>2171</th>\n",
              "      <td>FB002172</td>\n",
              "      <td>Tops</td>\n",
              "      <td>Mango</td>\n",
              "      <td>Summer</td>\n",
              "      <td>XL</td>\n",
              "      <td>Black</td>\n",
              "      <td>31.41</td>\n",
              "      <td>0.0</td>\n",
              "      <td>31.41</td>\n",
              "      <td>2025-08-06</td>\n",
              "      <td>10</td>\n",
              "      <td>2.1</td>\n",
              "      <td>False</td>\n",
              "      <td>NaN</td>\n",
              "    </tr>\n",
              "    <tr>\n",
              "      <th>2172</th>\n",
              "      <td>FB002173</td>\n",
              "      <td>Dresses</td>\n",
              "      <td>Banana Republic</td>\n",
              "      <td>Winter</td>\n",
              "      <td>L</td>\n",
              "      <td>Brown</td>\n",
              "      <td>50.58</td>\n",
              "      <td>0.0</td>\n",
              "      <td>50.58</td>\n",
              "      <td>2025-08-06</td>\n",
              "      <td>1</td>\n",
              "      <td>3.1</td>\n",
              "      <td>True</td>\n",
              "      <td>Changed Mind</td>\n",
              "    </tr>\n",
              "    <tr>\n",
              "      <th>2173</th>\n",
              "      <td>FB002174</td>\n",
              "      <td>Accessories</td>\n",
              "      <td>Banana Republic</td>\n",
              "      <td>Winter</td>\n",
              "      <td>NaN</td>\n",
              "      <td>Beige</td>\n",
              "      <td>79.37</td>\n",
              "      <td>54.8</td>\n",
              "      <td>35.88</td>\n",
              "      <td>2025-08-06</td>\n",
              "      <td>40</td>\n",
              "      <td>2.6</td>\n",
              "      <td>False</td>\n",
              "      <td>NaN</td>\n",
              "    </tr>\n",
              "    <tr>\n",
              "      <th>2174</th>\n",
              "      <td>FB002175</td>\n",
              "      <td>Bottoms</td>\n",
              "      <td>Ann Taylor</td>\n",
              "      <td>Summer</td>\n",
              "      <td>XL</td>\n",
              "      <td>Pink</td>\n",
              "      <td>105.52</td>\n",
              "      <td>0.0</td>\n",
              "      <td>105.52</td>\n",
              "      <td>2025-08-06</td>\n",
              "      <td>20</td>\n",
              "      <td>4.9</td>\n",
              "      <td>True</td>\n",
              "      <td>Size Issue</td>\n",
              "    </tr>\n",
              "    <tr>\n",
              "      <th>2175</th>\n",
              "      <td>FB002176</td>\n",
              "      <td>Shoes</td>\n",
              "      <td>Ann Taylor</td>\n",
              "      <td>Summer</td>\n",
              "      <td>XXL</td>\n",
              "      <td>White</td>\n",
              "      <td>154.02</td>\n",
              "      <td>0.0</td>\n",
              "      <td>154.02</td>\n",
              "      <td>2025-08-06</td>\n",
              "      <td>23</td>\n",
              "      <td>1.3</td>\n",
              "      <td>False</td>\n",
              "      <td>NaN</td>\n",
              "    </tr>\n",
              "  </tbody>\n",
              "</table>\n",
              "<p>2176 rows × 14 columns</p>\n",
              "</div>"
            ],
            "text/plain": [
              "     product_id     category            brand  season size  color  \\\n",
              "0      FB000001    Outerwear             Zara  Spring   XL    Red   \n",
              "1      FB000002         Tops           Uniqlo  Winter    L   Pink   \n",
              "2      FB000003  Accessories           Uniqlo  Winter  NaN  Black   \n",
              "3      FB000004        Shoes           Uniqlo  Spring   XL  Black   \n",
              "4      FB000005         Tops  Banana Republic  Winter   XL  Black   \n",
              "...         ...          ...              ...     ...  ...    ...   \n",
              "2171   FB002172         Tops            Mango  Summer   XL  Black   \n",
              "2172   FB002173      Dresses  Banana Republic  Winter    L  Brown   \n",
              "2173   FB002174  Accessories  Banana Republic  Winter  NaN  Beige   \n",
              "2174   FB002175      Bottoms       Ann Taylor  Summer   XL   Pink   \n",
              "2175   FB002176        Shoes       Ann Taylor  Summer  XXL  White   \n",
              "\n",
              "      original_price  markdown_percentage  current_price purchase_date  \\\n",
              "0             196.01                  0.0         196.01    2025-07-05   \n",
              "1             119.64                  0.0         119.64    2025-08-06   \n",
              "2              33.80                  0.0          33.80    2025-08-06   \n",
              "3              75.36                  0.0          75.36    2025-07-07   \n",
              "4             105.02                  0.0         105.02    2025-08-06   \n",
              "...              ...                  ...            ...           ...   \n",
              "2171           31.41                  0.0          31.41    2025-08-06   \n",
              "2172           50.58                  0.0          50.58    2025-08-06   \n",
              "2173           79.37                 54.8          35.88    2025-08-06   \n",
              "2174          105.52                  0.0         105.52    2025-08-06   \n",
              "2175          154.02                  0.0         154.02    2025-08-06   \n",
              "\n",
              "      stock_quantity  customer_rating  is_returned return_reason  \n",
              "0                 37              3.0        False           NaN  \n",
              "1                  2              2.5        False           NaN  \n",
              "2                 22              4.3        False           NaN  \n",
              "3                 48              2.6        False           NaN  \n",
              "4                 10              NaN        False           NaN  \n",
              "...              ...              ...          ...           ...  \n",
              "2171              10              2.1        False           NaN  \n",
              "2172               1              3.1         True  Changed Mind  \n",
              "2173              40              2.6        False           NaN  \n",
              "2174              20              4.9         True    Size Issue  \n",
              "2175              23              1.3        False           NaN  \n",
              "\n",
              "[2176 rows x 14 columns]"
            ]
          },
          "execution_count": 4,
          "metadata": {},
          "output_type": "execute_result"
        }
      ],
      "source": [
        "df['purchase_date'] = pd.to_datetime(df['purchase_date'])\n",
        "df"
      ]
    },
    {
      "cell_type": "code",
      "execution_count": 5,
      "metadata": {
        "colab": {
          "base_uri": "https://localhost:8080/",
          "height": 300
        },
        "id": "9mY06Wk-C6L2",
        "outputId": "2499d397-40a1-4177-cfe9-5d446a1456a2"
      },
      "outputs": [
        {
          "data": {
            "text/html": [
              "<div>\n",
              "<style scoped>\n",
              "    .dataframe tbody tr th:only-of-type {\n",
              "        vertical-align: middle;\n",
              "    }\n",
              "\n",
              "    .dataframe tbody tr th {\n",
              "        vertical-align: top;\n",
              "    }\n",
              "\n",
              "    .dataframe thead th {\n",
              "        text-align: right;\n",
              "    }\n",
              "</style>\n",
              "<table border=\"1\" class=\"dataframe\">\n",
              "  <thead>\n",
              "    <tr style=\"text-align: right;\">\n",
              "      <th></th>\n",
              "      <th>original_price</th>\n",
              "      <th>markdown_percentage</th>\n",
              "      <th>current_price</th>\n",
              "      <th>purchase_date</th>\n",
              "      <th>stock_quantity</th>\n",
              "      <th>customer_rating</th>\n",
              "    </tr>\n",
              "  </thead>\n",
              "  <tbody>\n",
              "    <tr>\n",
              "      <th>count</th>\n",
              "      <td>2176.000000</td>\n",
              "      <td>2176.000000</td>\n",
              "      <td>2176.000000</td>\n",
              "      <td>2176</td>\n",
              "      <td>2176.000000</td>\n",
              "      <td>1814.000000</td>\n",
              "    </tr>\n",
              "    <tr>\n",
              "      <th>mean</th>\n",
              "      <td>97.200340</td>\n",
              "      <td>12.144715</td>\n",
              "      <td>85.499596</td>\n",
              "      <td>2025-06-21 23:33:31.764705792</td>\n",
              "      <td>24.937960</td>\n",
              "      <td>2.986604</td>\n",
              "    </tr>\n",
              "    <tr>\n",
              "      <th>min</th>\n",
              "      <td>15.140000</td>\n",
              "      <td>0.000000</td>\n",
              "      <td>7.290000</td>\n",
              "      <td>2024-08-06 00:00:00</td>\n",
              "      <td>0.000000</td>\n",
              "      <td>1.000000</td>\n",
              "    </tr>\n",
              "    <tr>\n",
              "      <th>25%</th>\n",
              "      <td>57.872500</td>\n",
              "      <td>0.000000</td>\n",
              "      <td>46.845000</td>\n",
              "      <td>2025-08-06 00:00:00</td>\n",
              "      <td>13.000000</td>\n",
              "      <td>2.000000</td>\n",
              "    </tr>\n",
              "    <tr>\n",
              "      <th>50%</th>\n",
              "      <td>88.600000</td>\n",
              "      <td>0.000000</td>\n",
              "      <td>74.885000</td>\n",
              "      <td>2025-08-06 00:00:00</td>\n",
              "      <td>25.000000</td>\n",
              "      <td>3.000000</td>\n",
              "    </tr>\n",
              "    <tr>\n",
              "      <th>75%</th>\n",
              "      <td>127.630000</td>\n",
              "      <td>22.425000</td>\n",
              "      <td>112.865000</td>\n",
              "      <td>2025-08-06 00:00:00</td>\n",
              "      <td>37.000000</td>\n",
              "      <td>4.000000</td>\n",
              "    </tr>\n",
              "    <tr>\n",
              "      <th>max</th>\n",
              "      <td>249.980000</td>\n",
              "      <td>59.900000</td>\n",
              "      <td>249.980000</td>\n",
              "      <td>2025-08-06 00:00:00</td>\n",
              "      <td>50.000000</td>\n",
              "      <td>5.000000</td>\n",
              "    </tr>\n",
              "    <tr>\n",
              "      <th>std</th>\n",
              "      <td>51.637345</td>\n",
              "      <td>18.417786</td>\n",
              "      <td>50.091354</td>\n",
              "      <td>NaN</td>\n",
              "      <td>14.451387</td>\n",
              "      <td>1.159722</td>\n",
              "    </tr>\n",
              "  </tbody>\n",
              "</table>\n",
              "</div>"
            ],
            "text/plain": [
              "       original_price  markdown_percentage  current_price  \\\n",
              "count     2176.000000          2176.000000    2176.000000   \n",
              "mean        97.200340            12.144715      85.499596   \n",
              "min         15.140000             0.000000       7.290000   \n",
              "25%         57.872500             0.000000      46.845000   \n",
              "50%         88.600000             0.000000      74.885000   \n",
              "75%        127.630000            22.425000     112.865000   \n",
              "max        249.980000            59.900000     249.980000   \n",
              "std         51.637345            18.417786      50.091354   \n",
              "\n",
              "                       purchase_date  stock_quantity  customer_rating  \n",
              "count                           2176     2176.000000      1814.000000  \n",
              "mean   2025-06-21 23:33:31.764705792       24.937960         2.986604  \n",
              "min              2024-08-06 00:00:00        0.000000         1.000000  \n",
              "25%              2025-08-06 00:00:00       13.000000         2.000000  \n",
              "50%              2025-08-06 00:00:00       25.000000         3.000000  \n",
              "75%              2025-08-06 00:00:00       37.000000         4.000000  \n",
              "max              2025-08-06 00:00:00       50.000000         5.000000  \n",
              "std                              NaN       14.451387         1.159722  "
            ]
          },
          "execution_count": 5,
          "metadata": {},
          "output_type": "execute_result"
        }
      ],
      "source": [
        "df.describe()"
      ]
    },
    {
      "cell_type": "markdown",
      "metadata": {
        "id": "gnkRcI_cDH7J"
      },
      "source": [
        "**INSIGHT**\n",
        "1. orginal_price\n",
        "  - memiliki nilai yang variasi mulai dari 15- 249\n",
        "  - Rata rata harga di sekitar 97\n",
        "  - Median harga di 88\n",
        "2. markdown_percentage\n",
        "  - Nilai rata-rata diskon 12%\n",
        "  - Maksimal diskon sampai 59.9%\n",
        "3. current_price\n",
        "  - Rata-rata harga berkisar $85.5\n",
        "4. stock_quantity\n",
        "  - Nilai rata-rata setiap produk sekitar 25 unit\n",
        "  - Median 25 Unit\n",
        "5. customer_rating\n",
        "  - Nilai rating bervariasi dari 1-5\n",
        "  - Rata-rata rating berada di 3"
      ]
    },
    {
      "cell_type": "code",
      "execution_count": 6,
      "metadata": {
        "colab": {
          "base_uri": "https://localhost:8080/",
          "height": 523
        },
        "id": "cMQPJAz4FHof",
        "outputId": "8c7aab2c-eec4-4756-c27f-23bf0bbf7265"
      },
      "outputs": [
        {
          "data": {
            "text/plain": [
              "product_id                0\n",
              "category                  0\n",
              "brand                     0\n",
              "season                    0\n",
              "size                    491\n",
              "color                     0\n",
              "original_price            0\n",
              "markdown_percentage       0\n",
              "current_price             0\n",
              "purchase_date             0\n",
              "stock_quantity            0\n",
              "customer_rating         362\n",
              "is_returned               0\n",
              "return_reason          1856\n",
              "dtype: int64"
            ]
          },
          "execution_count": 6,
          "metadata": {},
          "output_type": "execute_result"
        }
      ],
      "source": [
        "df.isna().sum()"
      ]
    },
    {
      "cell_type": "code",
      "execution_count": 7,
      "metadata": {
        "colab": {
          "base_uri": "https://localhost:8080/",
          "height": 488
        },
        "id": "q39HyCMHFYZ-",
        "outputId": "6846351c-bce6-437d-e5e9-22d0141c5909"
      },
      "outputs": [
        {
          "data": {
            "text/html": [
              "<div>\n",
              "<style scoped>\n",
              "    .dataframe tbody tr th:only-of-type {\n",
              "        vertical-align: middle;\n",
              "    }\n",
              "\n",
              "    .dataframe tbody tr th {\n",
              "        vertical-align: top;\n",
              "    }\n",
              "\n",
              "    .dataframe thead th {\n",
              "        text-align: right;\n",
              "    }\n",
              "</style>\n",
              "<table border=\"1\" class=\"dataframe\">\n",
              "  <thead>\n",
              "    <tr style=\"text-align: right;\">\n",
              "      <th></th>\n",
              "      <th>missing_count</th>\n",
              "      <th>missing_percent</th>\n",
              "    </tr>\n",
              "  </thead>\n",
              "  <tbody>\n",
              "    <tr>\n",
              "      <th>product_id</th>\n",
              "      <td>0</td>\n",
              "      <td>0.00</td>\n",
              "    </tr>\n",
              "    <tr>\n",
              "      <th>category</th>\n",
              "      <td>0</td>\n",
              "      <td>0.00</td>\n",
              "    </tr>\n",
              "    <tr>\n",
              "      <th>brand</th>\n",
              "      <td>0</td>\n",
              "      <td>0.00</td>\n",
              "    </tr>\n",
              "    <tr>\n",
              "      <th>season</th>\n",
              "      <td>0</td>\n",
              "      <td>0.00</td>\n",
              "    </tr>\n",
              "    <tr>\n",
              "      <th>size</th>\n",
              "      <td>491</td>\n",
              "      <td>22.56</td>\n",
              "    </tr>\n",
              "    <tr>\n",
              "      <th>color</th>\n",
              "      <td>0</td>\n",
              "      <td>0.00</td>\n",
              "    </tr>\n",
              "    <tr>\n",
              "      <th>original_price</th>\n",
              "      <td>0</td>\n",
              "      <td>0.00</td>\n",
              "    </tr>\n",
              "    <tr>\n",
              "      <th>markdown_percentage</th>\n",
              "      <td>0</td>\n",
              "      <td>0.00</td>\n",
              "    </tr>\n",
              "    <tr>\n",
              "      <th>current_price</th>\n",
              "      <td>0</td>\n",
              "      <td>0.00</td>\n",
              "    </tr>\n",
              "    <tr>\n",
              "      <th>purchase_date</th>\n",
              "      <td>0</td>\n",
              "      <td>0.00</td>\n",
              "    </tr>\n",
              "    <tr>\n",
              "      <th>stock_quantity</th>\n",
              "      <td>0</td>\n",
              "      <td>0.00</td>\n",
              "    </tr>\n",
              "    <tr>\n",
              "      <th>customer_rating</th>\n",
              "      <td>362</td>\n",
              "      <td>16.64</td>\n",
              "    </tr>\n",
              "    <tr>\n",
              "      <th>is_returned</th>\n",
              "      <td>0</td>\n",
              "      <td>0.00</td>\n",
              "    </tr>\n",
              "    <tr>\n",
              "      <th>return_reason</th>\n",
              "      <td>1856</td>\n",
              "      <td>85.29</td>\n",
              "    </tr>\n",
              "  </tbody>\n",
              "</table>\n",
              "</div>"
            ],
            "text/plain": [
              "                     missing_count  missing_percent\n",
              "product_id                       0             0.00\n",
              "category                         0             0.00\n",
              "brand                            0             0.00\n",
              "season                           0             0.00\n",
              "size                           491            22.56\n",
              "color                            0             0.00\n",
              "original_price                   0             0.00\n",
              "markdown_percentage              0             0.00\n",
              "current_price                    0             0.00\n",
              "purchase_date                    0             0.00\n",
              "stock_quantity                   0             0.00\n",
              "customer_rating                362            16.64\n",
              "is_returned                      0             0.00\n",
              "return_reason                 1856            85.29"
            ]
          },
          "execution_count": 7,
          "metadata": {},
          "output_type": "execute_result"
        }
      ],
      "source": [
        "missing_counts = df.isnull().sum()\n",
        "missing_percents = (df.isnull().mean() * 100).round(2)\n",
        "missing_df = pd.DataFrame({\n",
        "    'missing_count': missing_counts,\n",
        "    'missing_percent': missing_percents\n",
        "})\n",
        "\n",
        "missing_df"
      ]
    },
    {
      "cell_type": "markdown",
      "metadata": {
        "id": "pWv5wQK2FypX"
      },
      "source": [
        "**INSIGHT**\n",
        "1. Kolom size memiliki missing value 491, kemungkinan besar karena category accesoris\n",
        "2. Kolom customer_rating memiliki missing value 362\n",
        "3. Kolom returen reason memiliki missing value 1856, ini wajar karena datanya bersifat boolean True or False, yang dimana mayoritas produk tidak di retur"
      ]
    },
    {
      "cell_type": "code",
      "execution_count": 8,
      "metadata": {
        "colab": {
          "base_uri": "https://localhost:8080/"
        },
        "id": "vz6p0-yYJFm0",
        "outputId": "e434198c-3954-42e8-ba94-91cfa8b897fc"
      },
      "outputs": [
        {
          "data": {
            "text/plain": [
              "np.int64(0)"
            ]
          },
          "execution_count": 8,
          "metadata": {},
          "output_type": "execute_result"
        }
      ],
      "source": [
        "df.duplicated().sum()"
      ]
    },
    {
      "cell_type": "markdown",
      "metadata": {
        "id": "zhIyTx2iJK8g"
      },
      "source": [
        "Tidak memiliki data yang duplicate"
      ]
    },
    {
      "cell_type": "markdown",
      "metadata": {
        "id": "BfCKprLV3wGB"
      },
      "source": [
        "# Exploratory Data Analysis (EDA)"
      ]
    },
    {
      "cell_type": "markdown",
      "metadata": {
        "id": "nSZ33ehxNkkh"
      },
      "source": [
        "## Distribusi Data Kolom Numerik"
      ]
    },
    {
      "cell_type": "code",
      "execution_count": 9,
      "metadata": {
        "colab": {
          "base_uri": "https://localhost:8080/",
          "height": 1000
        },
        "id": "QtMmAEEBKGX5",
        "outputId": "ae3ca55f-69ac-48a5-8ed8-ee64dae4ce47"
      },
      "outputs": [
        {
          "data": {
            "image/png": "[encoded data removed]",
            "text/plain": [
              "<Figure size 1200x500 with 2 Axes>"
            ]
          },
          "metadata": {},
          "output_type": "display_data"
        },
        {
          "data": {
            "image/png": "[encoded data removed]",
            "text/plain": [
              "<Figure size 1200x500 with 2 Axes>"
            ]
          },
          "metadata": {},
          "output_type": "display_data"
        },
        {
          "data": {
            "image/png": "[encoded data removed]",
            "text/plain": [
              "<Figure size 1200x500 with 2 Axes>"
            ]
          },
          "metadata": {},
          "output_type": "display_data"
        },
        {
          "data": {
            "image/png": "[encoded data removed]",
            "text/plain": [
              "<Figure size 1200x500 with 2 Axes>"
            ]
          },
          "metadata": {},
          "output_type": "display_data"
        },
        {
          "data": {
            "image/png": "[encoded data removed]",
            "text/plain": [
              "<Figure size 1200x500 with 2 Axes>"
            ]
          },
          "metadata": {},
          "output_type": "display_data"
        }
      ],
      "source": [
        "#set kolom numerik\n",
        "numeric_cols = ['original_price', 'markdown_percentage', 'current_price', 'stock_quantity', 'customer_rating']\n",
        "\n",
        "for col in numeric_cols:\n",
        "    plt.figure(figsize=(12, 5))\n",
        "\n",
        "    # histogram\n",
        "    plt.subplot(1, 2, 1)\n",
        "    sns.histplot(df[col], bins=30, kde=True)\n",
        "    plt.title(f'Distribusi {col}')\n",
        "    plt.xlabel(col)\n",
        "    plt.ylabel('Frekuensi')\n",
        "\n",
        "    # boxplot\n",
        "    plt.subplot(1, 2, 2)\n",
        "    sns.boxplot(x=df[col])\n",
        "    plt.title(f'Boxplot {col}')\n",
        "    plt.xlabel(col)\n",
        "\n",
        "    plt.tight_layout()\n",
        "    plt.show()\n"
      ]
    },
    {
      "cell_type": "markdown",
      "metadata": {
        "id": "S1z41_DgP6Ep"
      },
      "source": [
        "**INSIGHT**\n",
        "1. original_price memiliki distribusi data condong ke kanan dan mayoritas harga ada di bawah $150, dengan outlier pada kisaran harga premium\n",
        "2. markdown_percentage produk tidak mendapat diskon tertingi di 0%, sebagian kecil memiliki diskon besar hingga hampir 60%\n",
        "3. current_price mengikuti pola original_price walaupun memiliki nilai yang lebih rendah karena adanya diskon\n",
        "4. stock_quantity memilki distribusi data cenderung merata dengan batas maksimum 50; ada produk yang stoknya 0\n",
        "5. customer_rating memiliki cenderung normal di tengah (rating 3) dab memiliki juga rating yg 1 dan 5"
      ]
    },
    {
      "cell_type": "markdown",
      "metadata": {
        "id": "QLpF-efRR5qL"
      },
      "source": [
        "## Distribusi data Kolom Categorical"
      ]
    },
    {
      "cell_type": "code",
      "execution_count": 10,
      "metadata": {
        "colab": {
          "base_uri": "https://localhost:8080/",
          "height": 1000
        },
        "id": "-yPCKJiqR8_R",
        "outputId": "cad63c50-1bfa-4bb6-bf37-81eae80e0d60"
      },
      "outputs": [
        {
          "name": "stderr",
          "output_type": "stream",
          "text": [
            "C:\\Users\\myrev\\AppData\\Local\\Temp\\ipykernel_31284\\317806047.py:13: FutureWarning: \n",
            "\n",
            "Passing `palette` without assigning `hue` is deprecated and will be removed in v0.14.0. Assign the `x` variable to `hue` and set `legend=False` for the same effect.\n",
            "\n",
            "  sns.countplot(data=df_plot, x=col, order=order, palette=\"tab10\")\n"
          ]
        },
        {
          "data": {
            "image/png": "[encoded data removed]",
            "text/plain": [
              "<Figure size 1000x500 with 1 Axes>"
            ]
          },
          "metadata": {},
          "output_type": "display_data"
        },
        {
          "name": "stderr",
          "output_type": "stream",
          "text": [
            "C:\\Users\\myrev\\AppData\\Local\\Temp\\ipykernel_31284\\317806047.py:13: FutureWarning: \n",
            "\n",
            "Passing `palette` without assigning `hue` is deprecated and will be removed in v0.14.0. Assign the `x` variable to `hue` and set `legend=False` for the same effect.\n",
            "\n",
            "  sns.countplot(data=df_plot, x=col, order=order, palette=\"tab10\")\n"
          ]
        },
        {
          "data": {
            "image/png": "[encoded data removed]",
            "text/plain": [
              "<Figure size 1000x500 with 1 Axes>"
            ]
          },
          "metadata": {},
          "output_type": "display_data"
        },
        {
          "name": "stderr",
          "output_type": "stream",
          "text": [
            "C:\\Users\\myrev\\AppData\\Local\\Temp\\ipykernel_31284\\317806047.py:13: FutureWarning: \n",
            "\n",
            "Passing `palette` without assigning `hue` is deprecated and will be removed in v0.14.0. Assign the `x` variable to `hue` and set `legend=False` for the same effect.\n",
            "\n",
            "  sns.countplot(data=df_plot, x=col, order=order, palette=\"tab10\")\n"
          ]
        },
        {
          "data": {
            "image/png": "[encoded data removed]",
            "text/plain": [
              "<Figure size 1000x500 with 1 Axes>"
            ]
          },
          "metadata": {},
          "output_type": "display_data"
        },
        {
          "name": "stderr",
          "output_type": "stream",
          "text": [
            "C:\\Users\\myrev\\AppData\\Local\\Temp\\ipykernel_31284\\317806047.py:13: FutureWarning: \n",
            "\n",
            "Passing `palette` without assigning `hue` is deprecated and will be removed in v0.14.0. Assign the `x` variable to `hue` and set `legend=False` for the same effect.\n",
            "\n",
            "  sns.countplot(data=df_plot, x=col, order=order, palette=\"tab10\")\n"
          ]
        },
        {
          "data": {
            "image/png": "[encoded data removed]",
            "text/plain": [
              "<Figure size 1000x500 with 1 Axes>"
            ]
          },
          "metadata": {},
          "output_type": "display_data"
        },
        {
          "name": "stderr",
          "output_type": "stream",
          "text": [
            "C:\\Users\\myrev\\AppData\\Local\\Temp\\ipykernel_31284\\317806047.py:13: FutureWarning: \n",
            "\n",
            "Passing `palette` without assigning `hue` is deprecated and will be removed in v0.14.0. Assign the `x` variable to `hue` and set `legend=False` for the same effect.\n",
            "\n",
            "  sns.countplot(data=df_plot, x=col, order=order, palette=\"tab10\")\n"
          ]
        },
        {
          "data": {
            "image/png": "[encoded data removed]",
            "text/plain": [
              "<Figure size 1000x500 with 1 Axes>"
            ]
          },
          "metadata": {},
          "output_type": "display_data"
        },
        {
          "name": "stderr",
          "output_type": "stream",
          "text": [
            "C:\\Users\\myrev\\AppData\\Local\\Temp\\ipykernel_31284\\317806047.py:13: FutureWarning: \n",
            "\n",
            "Passing `palette` without assigning `hue` is deprecated and will be removed in v0.14.0. Assign the `x` variable to `hue` and set `legend=False` for the same effect.\n",
            "\n",
            "  sns.countplot(data=df_plot, x=col, order=order, palette=\"tab10\")\n"
          ]
        },
        {
          "data": {
            "image/png": "[encoded data removed]",
            "text/plain": [
              "<Figure size 1000x500 with 1 Axes>"
            ]
          },
          "metadata": {},
          "output_type": "display_data"
        }
      ],
      "source": [
        "#handle missing value temporary untuk plot size\n",
        "df_plot = df.copy()\n",
        "df_plot['size'] = df_plot['size'].fillna('No Size')\n",
        "\n",
        "#set kolom categorical\n",
        "categorical_cols = ['category', 'brand', 'season', 'size', 'color', 'return_reason']\n",
        "\n",
        "\n",
        "\n",
        "for col in categorical_cols:\n",
        "    plt.figure(figsize=(10, 5))\n",
        "    order = df_plot[col].value_counts().index\n",
        "    sns.countplot(data=df_plot, x=col, order=order, palette=\"tab10\")\n",
        "    plt.title(f'Distribusi {col}')\n",
        "    plt.xticks(rotation=45)\n",
        "    plt.ylabel('Jumlah')\n",
        "    plt.xlabel(col)\n",
        "    plt.tight_layout()\n",
        "    plt.show()\n"
      ]
    },
    {
      "cell_type": "markdown",
      "metadata": {
        "id": "6OfJsJg9bqrg"
      },
      "source": [
        "**INSIGHT**\n",
        "1. Category\n",
        "  - Accesoris merupakan kategori dengan jumlah terbanyak sekitar 400 jumlah penjualan\n",
        "  - Perbedaan jumlah antar kategori tidak memiliki perbedaan yang cukup jauh\n",
        "2. Brand\n",
        "  - Distribusi data antara brand meiliki pesebaran yang cukup merata sehingga analisis per brand akan menjadi seimbang\n",
        "3. Season\n",
        "  - Penjualan terbagi menjadi 4 musim : Summer, Fall, Spring, Winter\n",
        "  - Pesebaran data yang cukup merata dapat memberikan analisa tren musiman yang baik tanpa bias ke salah satu musim\n",
        "4. Size\n",
        "  - No size memiliki jumlah terbanyak karena mayoritas berasal dari category accesoris\n",
        "  - Ukuran juga memiliki distribusi data yang merata\n",
        "5. Color\n",
        "  - Warna hijau memiliki dominasi warna yang paling diminati, disusul oleh hitam dan merah"
      ]
    },
    {
      "cell_type": "markdown",
      "metadata": {
        "id": "3qN9uN6DjPdt"
      },
      "source": [
        "## Analisis Return Rate berdasarkan kolom categorical"
      ]
    },
    {
      "cell_type": "code",
      "execution_count": 11,
      "metadata": {
        "colab": {
          "base_uri": "https://localhost:8080/",
          "height": 1000
        },
        "id": "z8gAJWsFkUzW",
        "outputId": "712e066c-bdeb-461a-f5ae-121a1cb3d4e5"
      },
      "outputs": [
        {
          "name": "stderr",
          "output_type": "stream",
          "text": [
            "C:\\Users\\myrev\\AppData\\Local\\Temp\\ipykernel_31284\\3026285933.py:4: FutureWarning: \n",
            "\n",
            "Passing `palette` without assigning `hue` is deprecated and will be removed in v0.14.0. Assign the `x` variable to `hue` and set `legend=False` for the same effect.\n",
            "\n",
            "  sns.barplot(x=return_rate.index, y=return_rate.values, palette=\"tab10\")\n"
          ]
        },
        {
          "data": {
            "image/png": "[encoded data removed]",
            "text/plain": [
              "<Figure size 800x500 with 1 Axes>"
            ]
          },
          "metadata": {},
          "output_type": "display_data"
        },
        {
          "name": "stderr",
          "output_type": "stream",
          "text": [
            "C:\\Users\\myrev\\AppData\\Local\\Temp\\ipykernel_31284\\3026285933.py:4: FutureWarning: \n",
            "\n",
            "Passing `palette` without assigning `hue` is deprecated and will be removed in v0.14.0. Assign the `x` variable to `hue` and set `legend=False` for the same effect.\n",
            "\n",
            "  sns.barplot(x=return_rate.index, y=return_rate.values, palette=\"tab10\")\n"
          ]
        },
        {
          "data": {
            "image/png": "[encoded data removed]",
            "text/plain": [
              "<Figure size 800x500 with 1 Axes>"
            ]
          },
          "metadata": {},
          "output_type": "display_data"
        },
        {
          "name": "stderr",
          "output_type": "stream",
          "text": [
            "C:\\Users\\myrev\\AppData\\Local\\Temp\\ipykernel_31284\\3026285933.py:4: FutureWarning: \n",
            "\n",
            "Passing `palette` without assigning `hue` is deprecated and will be removed in v0.14.0. Assign the `x` variable to `hue` and set `legend=False` for the same effect.\n",
            "\n",
            "  sns.barplot(x=return_rate.index, y=return_rate.values, palette=\"tab10\")\n"
          ]
        },
        {
          "data": {
            "image/png": "[encoded data removed]",
            "text/plain": [
              "<Figure size 800x500 with 1 Axes>"
            ]
          },
          "metadata": {},
          "output_type": "display_data"
        },
        {
          "name": "stderr",
          "output_type": "stream",
          "text": [
            "C:\\Users\\myrev\\AppData\\Local\\Temp\\ipykernel_31284\\3026285933.py:4: FutureWarning: \n",
            "\n",
            "Passing `palette` without assigning `hue` is deprecated and will be removed in v0.14.0. Assign the `x` variable to `hue` and set `legend=False` for the same effect.\n",
            "\n",
            "  sns.barplot(x=return_rate.index, y=return_rate.values, palette=\"tab10\")\n"
          ]
        },
        {
          "data": {
            "image/png": "[encoded data removed]",
            "text/plain": [
              "<Figure size 800x500 with 1 Axes>"
            ]
          },
          "metadata": {},
          "output_type": "display_data"
        },
        {
          "name": "stderr",
          "output_type": "stream",
          "text": [
            "C:\\Users\\myrev\\AppData\\Local\\Temp\\ipykernel_31284\\3026285933.py:4: FutureWarning: \n",
            "\n",
            "Passing `palette` without assigning `hue` is deprecated and will be removed in v0.14.0. Assign the `x` variable to `hue` and set `legend=False` for the same effect.\n",
            "\n",
            "  sns.barplot(x=return_rate.index, y=return_rate.values, palette=\"tab10\")\n"
          ]
        },
        {
          "data": {
            "image/png": "[encoded data removed]",
            "text/plain": [
              "<Figure size 800x500 with 1 Axes>"
            ]
          },
          "metadata": {},
          "output_type": "display_data"
        }
      ],
      "source": [
        "def plot_return_rate(column):\n",
        "    plt.figure(figsize=(8,5))\n",
        "    return_rate = df.groupby(column)['is_returned'].mean().sort_values(ascending=False)\n",
        "    sns.barplot(x=return_rate.index, y=return_rate.values, palette=\"tab10\")\n",
        "    plt.title(f\"Return Rate by {column}\")\n",
        "    plt.ylabel(\"Return Rate\")\n",
        "    plt.xticks(rotation=45)\n",
        "    plt.ylim(0, return_rate.max() + 0.05)\n",
        "    plt.show()\n",
        "    return return_rate\n",
        "\n",
        "#plot\n",
        "rr_category = plot_return_rate('category')\n",
        "rr_brand = plot_return_rate('brand')\n",
        "rr_season = plot_return_rate('season')\n",
        "rr_size = plot_return_rate('size')\n",
        "rr_color = plot_return_rate('color')\n"
      ]
    },
    {
      "cell_type": "markdown",
      "metadata": {
        "id": "BW_aKs8elB2o"
      },
      "source": [
        "**INSIGHT**\n",
        "1. Category\n",
        "  - Outwear memiliki return rate tertinggi sebesar 16%\n",
        "  - Walaupun accesoris memiliki jumlah penjualan paling banyak, tetapi return rate nya berkisar di 13%\n",
        "2. Brand\n",
        "  - Brand Ann Taylor memiliki return rate paling tinggi sebesar 19%\n",
        "  - Brand dengan return rate paling rendah adalah Mango 11%\n",
        "3. Season\n",
        "  - Summer memiliki return rate paling tinggi 17%\n",
        "  - Fall memiliki return rate terendah sekitar 11%\n",
        "4. Size\n",
        "  - L memiliki return rate tertinggi 17,5 %\n",
        "5. Color\n",
        "  - Setiap warna memiliki jumlah return yg bervariasi namun tidak ada lonjakan yang cukup signifikan"
      ]
    },
    {
      "cell_type": "code",
      "execution_count": 12,
      "metadata": {
        "colab": {
          "base_uri": "https://localhost:8080/",
          "height": 178
        },
        "id": "omPdZyHqmJfn",
        "outputId": "82767695-355f-43b4-aec8-74d1c1ea6e59"
      },
      "outputs": [
        {
          "data": {
            "text/plain": [
              "is_returned\n",
              "False    85.294118\n",
              "True     14.705882\n",
              "Name: proportion, dtype: float64"
            ]
          },
          "execution_count": 12,
          "metadata": {},
          "output_type": "execute_result"
        }
      ],
      "source": [
        "df['is_returned'].value_counts(normalize=True) * 100"
      ]
    },
    {
      "cell_type": "markdown",
      "metadata": {
        "id": "DJ_PKHuwmKys"
      },
      "source": [
        "**INSIGHT**\n",
        "- Data telihat imbalance dapat dilihat dari hasil proportion, nantinya akan menggunakan teknik SMOTE untu mengurangi bias ke kelas mayoritas"
      ]
    },
    {
      "cell_type": "markdown",
      "metadata": {
        "id": "SCLxK8Wa30Ha"
      },
      "source": [
        "# Feature Engineering"
      ]
    },
    {
      "cell_type": "markdown",
      "metadata": {
        "id": "zi0fvfn0cK7O"
      },
      "source": [
        "## Splitting Data"
      ]
    },
    {
      "cell_type": "code",
      "execution_count": 13,
      "metadata": {
        "colab": {
          "base_uri": "https://localhost:8080/"
        },
        "id": "zeH6-fDBcNRW",
        "outputId": "a941cf87-5c85-4f07-d5b8-b1a3a270844b"
      },
      "outputs": [
        {
          "name": "stdout",
          "output_type": "stream",
          "text": [
            "(1740, 11)\n",
            "(436, 11)\n"
          ]
        }
      ],
      "source": [
        "X = df.drop(columns=['is_returned', 'return_reason', 'product_id'], errors='ignore')\n",
        "y = df['is_returned']\n",
        "\n",
        "X_train, X_test, y_train, y_test = train_test_split(X, y, test_size=0.2, stratify=y, random_state=42)\n",
        "\n",
        "print(X_train.shape)\n",
        "print(X_test.shape)"
      ]
    },
    {
      "cell_type": "markdown",
      "metadata": {
        "id": "3Ch2q0p6fPOI"
      },
      "source": [
        "## Check Cardinality"
      ]
    },
    {
      "cell_type": "code",
      "execution_count": 14,
      "metadata": {
        "id": "5AYkWJSzvCjI"
      },
      "outputs": [],
      "source": [
        "def check_cardinality(df, categorical_cols):\n",
        "  '''\n",
        "    Function untuk check cardinality kolom category\n",
        "  '''\n",
        "  raw_unique=[]\n",
        "\n",
        "  for col in categorical_cols:\n",
        "    row = [col, df[col].nunique(), df[col].unique()]\n",
        "    raw_unique.append(row)\n",
        "\n",
        "  result = pd.DataFrame(raw_unique, columns=['Nama Kolom', 'Total Unique', 'Unique Value'])\n",
        "  return result"
      ]
    },
    {
      "cell_type": "code",
      "execution_count": 15,
      "metadata": {
        "colab": {
          "base_uri": "https://localhost:8080/",
          "height": 206
        },
        "id": "aXfMg0M3vN4o",
        "outputId": "008b0723-875e-44e1-c7c6-92e5b5e8f747"
      },
      "outputs": [
        {
          "data": {
            "text/html": [
              "<div>\n",
              "<style scoped>\n",
              "    .dataframe tbody tr th:only-of-type {\n",
              "        vertical-align: middle;\n",
              "    }\n",
              "\n",
              "    .dataframe tbody tr th {\n",
              "        vertical-align: top;\n",
              "    }\n",
              "\n",
              "    .dataframe thead th {\n",
              "        text-align: right;\n",
              "    }\n",
              "</style>\n",
              "<table border=\"1\" class=\"dataframe\">\n",
              "  <thead>\n",
              "    <tr style=\"text-align: right;\">\n",
              "      <th></th>\n",
              "      <th>Nama Kolom</th>\n",
              "      <th>Total Unique</th>\n",
              "      <th>Unique Value</th>\n",
              "    </tr>\n",
              "  </thead>\n",
              "  <tbody>\n",
              "    <tr>\n",
              "      <th>0</th>\n",
              "      <td>category</td>\n",
              "      <td>6</td>\n",
              "      <td>[Tops, Bottoms, Dresses, Shoes, Accessories, Outerwear]</td>\n",
              "    </tr>\n",
              "    <tr>\n",
              "      <th>1</th>\n",
              "      <td>brand</td>\n",
              "      <td>8</td>\n",
              "      <td>[Uniqlo, Gap, H&amp;M, Banana Republic, Ann Taylor, Forever21, Zara, Mango]</td>\n",
              "    </tr>\n",
              "    <tr>\n",
              "      <th>2</th>\n",
              "      <td>season</td>\n",
              "      <td>4</td>\n",
              "      <td>[Fall, Summer, Winter, Spring]</td>\n",
              "    </tr>\n",
              "    <tr>\n",
              "      <th>3</th>\n",
              "      <td>size</td>\n",
              "      <td>6</td>\n",
              "      <td>[XL, XS, S, XXL, nan, M, L]</td>\n",
              "    </tr>\n",
              "    <tr>\n",
              "      <th>4</th>\n",
              "      <td>color</td>\n",
              "      <td>11</td>\n",
              "      <td>[Green, Navy, Brown, Gray, Black, White, Purple, Pink, Beige, Red, Blue]</td>\n",
              "    </tr>\n",
              "  </tbody>\n",
              "</table>\n",
              "</div>"
            ],
            "text/plain": [
              "  Nama Kolom  Total Unique  \\\n",
              "0   category             6   \n",
              "1      brand             8   \n",
              "2     season             4   \n",
              "3       size             6   \n",
              "4      color            11   \n",
              "\n",
              "                                                               Unique Value  \n",
              "0                   [Tops, Bottoms, Dresses, Shoes, Accessories, Outerwear]  \n",
              "1   [Uniqlo, Gap, H&M, Banana Republic, Ann Taylor, Forever21, Zara, Mango]  \n",
              "2                                            [Fall, Summer, Winter, Spring]  \n",
              "3                                               [XL, XS, S, XXL, nan, M, L]  \n",
              "4  [Green, Navy, Brown, Gray, Black, White, Purple, Pink, Beige, Red, Blue]  "
            ]
          },
          "execution_count": 15,
          "metadata": {},
          "output_type": "execute_result"
        }
      ],
      "source": [
        "# setting display\n",
        "pd.set_option('max_colwidth', None)\n",
        "\n",
        "categorical_cols = ['category', 'brand', 'season', 'size', 'color']\n",
        "\n",
        "check_cardinality(X_train, categorical_cols)"
      ]
    },
    {
      "cell_type": "markdown",
      "metadata": {
        "id": "L6GN8sjJxNfw"
      },
      "source": [
        "**INSIGHT**\n",
        "1. category -> 6 kategori produk\n",
        "2. brand -> 8 brand berbeda\n",
        "3. season -> 4 musim (Fall, Summer, Winter, Spring)\n",
        "4. size -> 6 kategori ukuran pakaian, ada yang memiliki data Nan kemungkinan besar karena kategori accesoris\n",
        "5. color -> 11 warna berbeda\n",
        "\n",
        "**NEXT ACTION**\n",
        "1. Size yang memiliki value Nan dengan category Accesoris diisi dengan No size"
      ]
    },
    {
      "cell_type": "code",
      "execution_count": 16,
      "metadata": {
        "id": "kpASmvdU_Nh_"
      },
      "outputs": [],
      "source": [
        "X_train.loc[(X_train['category'] == 'Accessories') & (X_train['size'].isnull()), 'size'] = 'No Size'\n",
        "X_test.loc[(X_test['category'] == 'Accessories') & (X_test['size'].isnull()), 'size'] = 'No Size'"
      ]
    },
    {
      "cell_type": "markdown",
      "metadata": {
        "id": "XvpxbC_9y3hT"
      },
      "source": [
        "## Check Outliers"
      ]
    },
    {
      "cell_type": "code",
      "execution_count": 17,
      "metadata": {
        "id": "2TMuErZ3y7Og"
      },
      "outputs": [],
      "source": [
        "def outliers_checker(df, numeric_cols):\n",
        "  '''\n",
        "  Fungsi untuk memeriksa outliers pada kolom numerik dengan mempertimbangkan skewness\n",
        "  '''\n",
        "\n",
        "  # variable kosong\n",
        "  result = []\n",
        "\n",
        "  for col in numeric_cols:\n",
        "    row = []\n",
        "\n",
        "    # add nama kolom\n",
        "    row.append(col)\n",
        "\n",
        "    # check normalitas\n",
        "    if np.abs(df[col].skew()) > 1 :\n",
        "      row.append('extreme skew')\n",
        "    elif np.abs(df[col].skew()) > 0.5:\n",
        "      row.append('skew')\n",
        "    else:\n",
        "      row.append('normal')\n",
        "\n",
        "    # upper dan lower boundaries\n",
        "    if row[1] == 'normal':\n",
        "      upper = df[col].mean() + 3 * df[col].std()\n",
        "      lower = df[col].mean() - 3 * df[col].std()\n",
        "    elif row[1] == 'skew':\n",
        "      iqr = df[col].quantile(0.75) - df[col].quantile(0.25)\n",
        "      upper = df[col].quantile(0.75) + 1.5 * iqr\n",
        "      lower = df[col].quantile(0.25) - 1.5 * iqr\n",
        "    else:\n",
        "      iqr = df[col].quantile(0.75) - df[col].quantile(0.25)\n",
        "      upper = df[col].quantile(0.75) + 3 * iqr\n",
        "      lower = df[col].quantile(0.25) - 3 * iqr\n",
        "\n",
        "    # add upper and lower boundaries\n",
        "    row.append(round(upper, 2))\n",
        "    row.append(round(lower, 2))\n",
        "\n",
        "    # check outliers exists or not\n",
        "    if len(df.loc[(df[col] > upper)]) > 0:\n",
        "      row.append('has outliers')\n",
        "      row.append(round(len(df.loc[(df[col] > upper)]) / len(df) * 100,2))\n",
        "    else:\n",
        "      row.append('no outlier')\n",
        "      row.append(0.0)\n",
        "\n",
        "\n",
        "    result.append(row)\n",
        "\n",
        "  result = pd.DataFrame(result, columns=['nama kolom', 'skewness', 'upper boundary',\n",
        "                                         'lower boundary', 'outliers status', 'outlier pct (in %)'])\n",
        "  return result"
      ]
    },
    {
      "cell_type": "code",
      "execution_count": 18,
      "metadata": {
        "colab": {
          "base_uri": "https://localhost:8080/",
          "height": 206
        },
        "id": "m_0o2q_G0sYD",
        "outputId": "e9cc313d-26cd-4bf3-e945-799e500673e1"
      },
      "outputs": [
        {
          "data": {
            "text/html": [
              "<div>\n",
              "<style scoped>\n",
              "    .dataframe tbody tr th:only-of-type {\n",
              "        vertical-align: middle;\n",
              "    }\n",
              "\n",
              "    .dataframe tbody tr th {\n",
              "        vertical-align: top;\n",
              "    }\n",
              "\n",
              "    .dataframe thead th {\n",
              "        text-align: right;\n",
              "    }\n",
              "</style>\n",
              "<table border=\"1\" class=\"dataframe\">\n",
              "  <thead>\n",
              "    <tr style=\"text-align: right;\">\n",
              "      <th></th>\n",
              "      <th>nama kolom</th>\n",
              "      <th>skewness</th>\n",
              "      <th>upper boundary</th>\n",
              "      <th>lower boundary</th>\n",
              "      <th>outliers status</th>\n",
              "      <th>outlier pct (in %)</th>\n",
              "    </tr>\n",
              "  </thead>\n",
              "  <tbody>\n",
              "    <tr>\n",
              "      <th>0</th>\n",
              "      <td>original_price</td>\n",
              "      <td>skew</td>\n",
              "      <td>224.13</td>\n",
              "      <td>-42.10</td>\n",
              "      <td>has outliers</td>\n",
              "      <td>1.90</td>\n",
              "    </tr>\n",
              "    <tr>\n",
              "      <th>1</th>\n",
              "      <td>markdown_percentage</td>\n",
              "      <td>extreme skew</td>\n",
              "      <td>97.60</td>\n",
              "      <td>-73.20</td>\n",
              "      <td>no outlier</td>\n",
              "      <td>0.00</td>\n",
              "    </tr>\n",
              "    <tr>\n",
              "      <th>2</th>\n",
              "      <td>stock_quantity</td>\n",
              "      <td>normal</td>\n",
              "      <td>68.52</td>\n",
              "      <td>-18.65</td>\n",
              "      <td>no outlier</td>\n",
              "      <td>0.00</td>\n",
              "    </tr>\n",
              "    <tr>\n",
              "      <th>3</th>\n",
              "      <td>customer_rating</td>\n",
              "      <td>normal</td>\n",
              "      <td>6.41</td>\n",
              "      <td>-0.45</td>\n",
              "      <td>no outlier</td>\n",
              "      <td>0.00</td>\n",
              "    </tr>\n",
              "    <tr>\n",
              "      <th>4</th>\n",
              "      <td>current_price</td>\n",
              "      <td>skew</td>\n",
              "      <td>205.73</td>\n",
              "      <td>-48.69</td>\n",
              "      <td>has outliers</td>\n",
              "      <td>2.36</td>\n",
              "    </tr>\n",
              "  </tbody>\n",
              "</table>\n",
              "</div>"
            ],
            "text/plain": [
              "            nama kolom      skewness  upper boundary  lower boundary  \\\n",
              "0       original_price          skew          224.13          -42.10   \n",
              "1  markdown_percentage  extreme skew           97.60          -73.20   \n",
              "2       stock_quantity        normal           68.52          -18.65   \n",
              "3      customer_rating        normal            6.41           -0.45   \n",
              "4        current_price          skew          205.73          -48.69   \n",
              "\n",
              "  outliers status  outlier pct (in %)  \n",
              "0    has outliers                1.90  \n",
              "1      no outlier                0.00  \n",
              "2      no outlier                0.00  \n",
              "3      no outlier                0.00  \n",
              "4    has outliers                2.36  "
            ]
          },
          "execution_count": 18,
          "metadata": {},
          "output_type": "execute_result"
        }
      ],
      "source": [
        "numeric_cols = ['original_price', 'markdown_percentage', 'stock_quantity', 'customer_rating', 'current_price']\n",
        "\n",
        "outlier_report = outliers_checker(X_train, numeric_cols)\n",
        "outlier_report"
      ]
    },
    {
      "cell_type": "markdown",
      "metadata": {
        "id": "kuQSDQtG5xHq"
      },
      "source": [
        "**INSIGHT**\n",
        "1. Original Price dan current_price memiliki skewness\n",
        "2. markdown_percentage memilki skewness yang extreme\n",
        "\n",
        "**NEXT ACTION**\n",
        "\n",
        "Akan dilakuan handling outliers pada pipeline"
      ]
    },
    {
      "cell_type": "markdown",
      "metadata": {
        "id": "zJBkA7277D0k"
      },
      "source": [
        "## Check Missing Value"
      ]
    },
    {
      "cell_type": "code",
      "execution_count": 19,
      "metadata": {
        "colab": {
          "base_uri": "https://localhost:8080/",
          "height": 429
        },
        "id": "V60L2XYB7Q-M",
        "outputId": "2ab6c0ec-331a-4d48-95e7-8ea30f1556de"
      },
      "outputs": [
        {
          "data": {
            "text/plain": [
              "category                 0\n",
              "brand                    0\n",
              "season                   0\n",
              "size                    76\n",
              "color                    0\n",
              "original_price           0\n",
              "markdown_percentage      0\n",
              "current_price            0\n",
              "purchase_date            0\n",
              "stock_quantity           0\n",
              "customer_rating        291\n",
              "dtype: int64"
            ]
          },
          "execution_count": 19,
          "metadata": {},
          "output_type": "execute_result"
        }
      ],
      "source": [
        "X_train.isna().sum()"
      ]
    },
    {
      "cell_type": "markdown",
      "metadata": {
        "id": "Q_OT2mWRCEkw"
      },
      "source": [
        "**INSIGHT**\n",
        "1. Kolom size memiliki missing value bersifat MAR, karena berhubungan dengan variabel lain"
      ]
    },
    {
      "cell_type": "code",
      "execution_count": 20,
      "metadata": {
        "colab": {
          "base_uri": "https://localhost:8080/",
          "height": 244
        },
        "id": "BoVDBQl0HEQw",
        "outputId": "f3c3cc92-4392-4ccd-9b4f-650b1a935487"
      },
      "outputs": [
        {
          "data": {
            "text/html": [
              "<div>\n",
              "<style scoped>\n",
              "    .dataframe tbody tr th:only-of-type {\n",
              "        vertical-align: middle;\n",
              "    }\n",
              "\n",
              "    .dataframe tbody tr th {\n",
              "        vertical-align: top;\n",
              "    }\n",
              "\n",
              "    .dataframe thead th {\n",
              "        text-align: right;\n",
              "    }\n",
              "</style>\n",
              "<table border=\"1\" class=\"dataframe\">\n",
              "  <thead>\n",
              "    <tr style=\"text-align: right;\">\n",
              "      <th></th>\n",
              "      <th>product_id</th>\n",
              "      <th>category</th>\n",
              "      <th>brand</th>\n",
              "      <th>season</th>\n",
              "      <th>size</th>\n",
              "      <th>color</th>\n",
              "      <th>original_price</th>\n",
              "      <th>markdown_percentage</th>\n",
              "      <th>current_price</th>\n",
              "      <th>purchase_date</th>\n",
              "      <th>stock_quantity</th>\n",
              "      <th>customer_rating</th>\n",
              "      <th>is_returned</th>\n",
              "      <th>return_reason</th>\n",
              "    </tr>\n",
              "  </thead>\n",
              "  <tbody>\n",
              "    <tr>\n",
              "      <th>0</th>\n",
              "      <td>FB000001</td>\n",
              "      <td>Outerwear</td>\n",
              "      <td>Zara</td>\n",
              "      <td>Spring</td>\n",
              "      <td>XL</td>\n",
              "      <td>Red</td>\n",
              "      <td>196.01</td>\n",
              "      <td>0.0</td>\n",
              "      <td>196.01</td>\n",
              "      <td>2025-07-05</td>\n",
              "      <td>37</td>\n",
              "      <td>3.0</td>\n",
              "      <td>False</td>\n",
              "      <td>NaN</td>\n",
              "    </tr>\n",
              "    <tr>\n",
              "      <th>1</th>\n",
              "      <td>FB000002</td>\n",
              "      <td>Tops</td>\n",
              "      <td>Uniqlo</td>\n",
              "      <td>Winter</td>\n",
              "      <td>L</td>\n",
              "      <td>Pink</td>\n",
              "      <td>119.64</td>\n",
              "      <td>0.0</td>\n",
              "      <td>119.64</td>\n",
              "      <td>2025-08-06</td>\n",
              "      <td>2</td>\n",
              "      <td>2.5</td>\n",
              "      <td>False</td>\n",
              "      <td>NaN</td>\n",
              "    </tr>\n",
              "    <tr>\n",
              "      <th>2</th>\n",
              "      <td>FB000003</td>\n",
              "      <td>Accessories</td>\n",
              "      <td>Uniqlo</td>\n",
              "      <td>Winter</td>\n",
              "      <td>NaN</td>\n",
              "      <td>Black</td>\n",
              "      <td>33.80</td>\n",
              "      <td>0.0</td>\n",
              "      <td>33.80</td>\n",
              "      <td>2025-08-06</td>\n",
              "      <td>22</td>\n",
              "      <td>4.3</td>\n",
              "      <td>False</td>\n",
              "      <td>NaN</td>\n",
              "    </tr>\n",
              "    <tr>\n",
              "      <th>3</th>\n",
              "      <td>FB000004</td>\n",
              "      <td>Shoes</td>\n",
              "      <td>Uniqlo</td>\n",
              "      <td>Spring</td>\n",
              "      <td>XL</td>\n",
              "      <td>Black</td>\n",
              "      <td>75.36</td>\n",
              "      <td>0.0</td>\n",
              "      <td>75.36</td>\n",
              "      <td>2025-07-07</td>\n",
              "      <td>48</td>\n",
              "      <td>2.6</td>\n",
              "      <td>False</td>\n",
              "      <td>NaN</td>\n",
              "    </tr>\n",
              "    <tr>\n",
              "      <th>4</th>\n",
              "      <td>FB000005</td>\n",
              "      <td>Tops</td>\n",
              "      <td>Banana Republic</td>\n",
              "      <td>Winter</td>\n",
              "      <td>XL</td>\n",
              "      <td>Black</td>\n",
              "      <td>105.02</td>\n",
              "      <td>0.0</td>\n",
              "      <td>105.02</td>\n",
              "      <td>2025-08-06</td>\n",
              "      <td>10</td>\n",
              "      <td>NaN</td>\n",
              "      <td>False</td>\n",
              "      <td>NaN</td>\n",
              "    </tr>\n",
              "  </tbody>\n",
              "</table>\n",
              "</div>"
            ],
            "text/plain": [
              "  product_id     category            brand  season size  color  \\\n",
              "0   FB000001    Outerwear             Zara  Spring   XL    Red   \n",
              "1   FB000002         Tops           Uniqlo  Winter    L   Pink   \n",
              "2   FB000003  Accessories           Uniqlo  Winter  NaN  Black   \n",
              "3   FB000004        Shoes           Uniqlo  Spring   XL  Black   \n",
              "4   FB000005         Tops  Banana Republic  Winter   XL  Black   \n",
              "\n",
              "   original_price  markdown_percentage  current_price purchase_date  \\\n",
              "0          196.01                  0.0         196.01    2025-07-05   \n",
              "1          119.64                  0.0         119.64    2025-08-06   \n",
              "2           33.80                  0.0          33.80    2025-08-06   \n",
              "3           75.36                  0.0          75.36    2025-07-07   \n",
              "4          105.02                  0.0         105.02    2025-08-06   \n",
              "\n",
              "   stock_quantity  customer_rating  is_returned return_reason  \n",
              "0              37              3.0        False           NaN  \n",
              "1               2              2.5        False           NaN  \n",
              "2              22              4.3        False           NaN  \n",
              "3              48              2.6        False           NaN  \n",
              "4              10              NaN        False           NaN  "
            ]
          },
          "execution_count": 20,
          "metadata": {},
          "output_type": "execute_result"
        }
      ],
      "source": [
        "df.head(5)"
      ]
    },
    {
      "cell_type": "markdown",
      "metadata": {
        "id": "owzOWUMIufX-"
      },
      "source": [
        "## Feature Selection\n"
      ]
    },
    {
      "cell_type": "code",
      "execution_count": 21,
      "metadata": {
        "colab": {
          "base_uri": "https://localhost:8080/",
          "height": 206
        },
        "id": "2ypWCovuAV_d",
        "outputId": "243ca3d4-a4a3-4396-ea37-5e569b1968d0"
      },
      "outputs": [
        {
          "data": {
            "text/html": [
              "<div>\n",
              "<style scoped>\n",
              "    .dataframe tbody tr th:only-of-type {\n",
              "        vertical-align: middle;\n",
              "    }\n",
              "\n",
              "    .dataframe tbody tr th {\n",
              "        vertical-align: top;\n",
              "    }\n",
              "\n",
              "    .dataframe thead th {\n",
              "        text-align: right;\n",
              "    }\n",
              "</style>\n",
              "<table border=\"1\" class=\"dataframe\">\n",
              "  <thead>\n",
              "    <tr style=\"text-align: right;\">\n",
              "      <th></th>\n",
              "      <th>Nama Kolom</th>\n",
              "      <th>Correlated</th>\n",
              "      <th>Correlated Status</th>\n",
              "    </tr>\n",
              "  </thead>\n",
              "  <tbody>\n",
              "    <tr>\n",
              "      <th>0</th>\n",
              "      <td>original_price</td>\n",
              "      <td>-0.013789</td>\n",
              "      <td>Not Correlated</td>\n",
              "    </tr>\n",
              "    <tr>\n",
              "      <th>1</th>\n",
              "      <td>markdown_percentage</td>\n",
              "      <td>0.034603</td>\n",
              "      <td>Not Correlated</td>\n",
              "    </tr>\n",
              "    <tr>\n",
              "      <th>2</th>\n",
              "      <td>stock_quantity</td>\n",
              "      <td>0.037022</td>\n",
              "      <td>Not Correlated</td>\n",
              "    </tr>\n",
              "    <tr>\n",
              "      <th>3</th>\n",
              "      <td>customer_rating</td>\n",
              "      <td>NaN</td>\n",
              "      <td>Not Correlated</td>\n",
              "    </tr>\n",
              "    <tr>\n",
              "      <th>4</th>\n",
              "      <td>current_price</td>\n",
              "      <td>-0.028129</td>\n",
              "      <td>Not Correlated</td>\n",
              "    </tr>\n",
              "  </tbody>\n",
              "</table>\n",
              "</div>"
            ],
            "text/plain": [
              "            Nama Kolom  Correlated Correlated Status\n",
              "0       original_price   -0.013789    Not Correlated\n",
              "1  markdown_percentage    0.034603    Not Correlated\n",
              "2       stock_quantity    0.037022    Not Correlated\n",
              "3      customer_rating         NaN    Not Correlated\n",
              "4        current_price   -0.028129    Not Correlated"
            ]
          },
          "execution_count": 21,
          "metadata": {},
          "output_type": "execute_result"
        }
      ],
      "source": [
        "\n",
        "numeric_cols = ['original_price', 'markdown_percentage', 'stock_quantity', 'customer_rating', 'current_price']\n",
        "\n",
        "result = []\n",
        "\n",
        "for col in numeric_cols:\n",
        "    row = []\n",
        "    corr, p_value = stats.spearmanr(X_train[col], y_train)\n",
        "\n",
        "    # Add kolom\n",
        "    row.append(col)\n",
        "\n",
        "    # Add correlation\n",
        "    row.append(corr)\n",
        "\n",
        "    # Add p_value\n",
        "    if p_value < 0.05:\n",
        "        row.append('Correlated')\n",
        "    else:\n",
        "        row.append('Not Correlated')\n",
        "\n",
        "    result.append(row)\n",
        "\n",
        "result = pd.DataFrame(result, columns=['Nama Kolom', 'Correlated', 'Correlated Status'])\n",
        "\n",
        "# Menampilkan hasil\n",
        "result"
      ]
    },
    {
      "cell_type": "markdown",
      "metadata": {
        "id": "x5KTs_AsMPbe"
      },
      "source": [
        "**INSIGHT**\n",
        "\n",
        "Semua kolom numeric memiliki status yang lemah terhadap target"
      ]
    },
    {
      "cell_type": "code",
      "execution_count": 22,
      "metadata": {
        "colab": {
          "base_uri": "https://localhost:8080/",
          "height": 206
        },
        "id": "4XALk9E0Bj3r",
        "outputId": "87fab918-2281-487d-c3f6-b3cacbe2b110"
      },
      "outputs": [
        {
          "data": {
            "text/html": [
              "<div>\n",
              "<style scoped>\n",
              "    .dataframe tbody tr th:only-of-type {\n",
              "        vertical-align: middle;\n",
              "    }\n",
              "\n",
              "    .dataframe tbody tr th {\n",
              "        vertical-align: top;\n",
              "    }\n",
              "\n",
              "    .dataframe thead th {\n",
              "        text-align: right;\n",
              "    }\n",
              "</style>\n",
              "<table border=\"1\" class=\"dataframe\">\n",
              "  <thead>\n",
              "    <tr style=\"text-align: right;\">\n",
              "      <th></th>\n",
              "      <th>Chi2</th>\n",
              "      <th>p-value</th>\n",
              "      <th>Levels</th>\n",
              "      <th>Correlated Status</th>\n",
              "    </tr>\n",
              "  </thead>\n",
              "  <tbody>\n",
              "    <tr>\n",
              "      <th>category</th>\n",
              "      <td>4.5506</td>\n",
              "      <td>0.473144</td>\n",
              "      <td>6</td>\n",
              "      <td>Not Correlated</td>\n",
              "    </tr>\n",
              "    <tr>\n",
              "      <th>brand</th>\n",
              "      <td>10.0627</td>\n",
              "      <td>0.185047</td>\n",
              "      <td>8</td>\n",
              "      <td>Not Correlated</td>\n",
              "    </tr>\n",
              "    <tr>\n",
              "      <th>season</th>\n",
              "      <td>6.5050</td>\n",
              "      <td>0.089466</td>\n",
              "      <td>4</td>\n",
              "      <td>Not Correlated</td>\n",
              "    </tr>\n",
              "    <tr>\n",
              "      <th>size</th>\n",
              "      <td>4.3739</td>\n",
              "      <td>0.735849</td>\n",
              "      <td>8</td>\n",
              "      <td>Not Correlated</td>\n",
              "    </tr>\n",
              "    <tr>\n",
              "      <th>color</th>\n",
              "      <td>6.0162</td>\n",
              "      <td>0.813904</td>\n",
              "      <td>11</td>\n",
              "      <td>Not Correlated</td>\n",
              "    </tr>\n",
              "  </tbody>\n",
              "</table>\n",
              "</div>"
            ],
            "text/plain": [
              "             Chi2   p-value  Levels Correlated Status\n",
              "category   4.5506  0.473144       6    Not Correlated\n",
              "brand     10.0627  0.185047       8    Not Correlated\n",
              "season     6.5050  0.089466       4    Not Correlated\n",
              "size       4.3739  0.735849       8    Not Correlated\n",
              "color      6.0162  0.813904      11    Not Correlated"
            ]
          },
          "execution_count": 22,
          "metadata": {},
          "output_type": "execute_result"
        }
      ],
      "source": [
        "categorical_cols = ['category', 'brand', 'season', 'size', 'color']\n",
        "\n",
        "rows = []\n",
        "for col in categorical_cols:\n",
        "\n",
        "    cat = X_train[col].astype(str).str.strip()\n",
        "    ct = pd.crosstab(cat, y_train)\n",
        "    chi2, p_val, dof, expected = stats.chi2_contingency(ct)\n",
        "    n = ct.sum().sum()\n",
        "    k = min(ct.shape)\n",
        "\n",
        "    status = 'Correlated' if p_val < 0.05 else 'Not Correlated'\n",
        "    rows.append({\n",
        "        'Chi2': round(chi2, 4),\n",
        "        'p-value': round(p_val, 6),\n",
        "        'Levels': ct.shape[0],\n",
        "        'Correlated Status': status\n",
        "    })\n",
        "\n",
        "result = pd.DataFrame(rows, index=categorical_cols)\n",
        "result\n"
      ]
    },
    {
      "cell_type": "markdown",
      "metadata": {
        "id": "OUL3NPX_Md5-"
      },
      "source": [
        "**INSIGHT**\n",
        "\n",
        "Semua kolom category memiliki status yang lemah terhadap target"
      ]
    },
    {
      "cell_type": "code",
      "execution_count": 23,
      "metadata": {
        "id": "rYy7Fj9rLaH8"
      },
      "outputs": [],
      "source": [
        "X_train = X_train.drop(columns=['current_price'])\n",
        "X_test = X_test.drop(columns=['current_price'])"
      ]
    },
    {
      "cell_type": "markdown",
      "metadata": {
        "id": "_N-SPW0TMmeR"
      },
      "source": [
        "Drop kolom current_price karena bersifat multikolinieritas dengan kolom original_price dan markdown_percentage"
      ]
    },
    {
      "cell_type": "markdown",
      "metadata": {
        "id": "ildtMAMbBd5B"
      },
      "source": [
        "## Split numeric & category columns"
      ]
    },
    {
      "cell_type": "code",
      "execution_count": 24,
      "metadata": {
        "id": "M70q7nXOIFKw"
      },
      "outputs": [],
      "source": [
        "numeric_normal = ['stock_quantity', 'customer_rating']\n",
        "numeric_extreme = ['original_price', 'markdown_percentage']\n",
        "category = ['category', 'brand', 'season', 'size', 'color']"
      ]
    },
    {
      "cell_type": "markdown",
      "metadata": {
        "id": "OSiYY2fGBjHG"
      },
      "source": [
        "## Pipeline"
      ]
    },
    {
      "cell_type": "code",
      "execution_count": 25,
      "metadata": {
        "id": "SKuTgzHHK4Jh"
      },
      "outputs": [],
      "source": [
        "numeric_normal_pipeline = Pipeline(steps=[\n",
        "    ('imputer', SimpleImputer(strategy='median')),\n",
        "    ('scaler', StandardScaler())\n",
        "])\n",
        "\n",
        "numeric_extreme_pipeline = Pipeline(steps=[\n",
        "    ('imputer', SimpleImputer(strategy='median')),\n",
        "    ('scaler', RobustScaler())\n",
        "])\n",
        "\n",
        "categorical_pipeline = Pipeline(steps=[\n",
        "    ('imputer', SimpleImputer(strategy='most_frequent')),\n",
        "    ('onehot', OneHotEncoder(handle_unknown='ignore', sparse_output=False))\n",
        "])"
      ]
    },
    {
      "cell_type": "code",
      "execution_count": 26,
      "metadata": {
        "colab": {
          "base_uri": "https://localhost:8080/",
          "height": 191
        },
        "id": "qRSsWOq1NyA6",
        "outputId": "95059d82-47c5-482d-ea0c-cda44f3117e5"
      },
      "outputs": [
        {
          "data": {
            "text/html": [
              "<style>#sk-container-id-1 {\n",
              "  /* Definition of color scheme common for light and dark mode */\n",
              "  --sklearn-color-text: #000;\n",
              "  --sklearn-color-text-muted: #666;\n",
              "  --sklearn-color-line: gray;\n",
              "  /* Definition of color scheme for unfitted estimators */\n",
              "  --sklearn-color-unfitted-level-0: #fff5e6;\n",
              "  --sklearn-color-unfitted-level-1: #f6e4d2;\n",
              "  --sklearn-color-unfitted-level-2: #ffe0b3;\n",
              "  --sklearn-color-unfitted-level-3: chocolate;\n",
              "  /* Definition of color scheme for fitted estimators */\n",
              "  --sklearn-color-fitted-level-0: #f0f8ff;\n",
              "  --sklearn-color-fitted-level-1: #d4ebff;\n",
              "  --sklearn-color-fitted-level-2: #b3dbfd;\n",
              "  --sklearn-color-fitted-level-3: cornflowerblue;\n",
              "\n",
              "  /* Specific color for light theme */\n",
              "  --sklearn-color-text-on-default-background: var(--sg-text-color, var(--theme-code-foreground, var(--jp-content-font-color1, black)));\n",
              "  --sklearn-color-background: var(--sg-background-color, var(--theme-background, var(--jp-layout-color0, white)));\n",
              "  --sklearn-color-border-box: var(--sg-text-color, var(--theme-code-foreground, var(--jp-content-font-color1, black)));\n",
              "  --sklearn-color-icon: #696969;\n",
              "\n",
              "  @media (prefers-color-scheme: dark) {\n",
              "    /* Redefinition of color scheme for dark theme */\n",
              "    --sklearn-color-text-on-default-background: var(--sg-text-color, var(--theme-code-foreground, var(--jp-content-font-color1, white)));\n",
              "    --sklearn-color-background: var(--sg-background-color, var(--theme-background, var(--jp-layout-color0, #111)));\n",
              "    --sklearn-color-border-box: var(--sg-text-color, var(--theme-code-foreground, var(--jp-content-font-color1, white)));\n",
              "    --sklearn-color-icon: #878787;\n",
              "  }\n",
              "}\n",
              "\n",
              "#sk-container-id-1 {\n",
              "  color: var(--sklearn-color-text);\n",
              "}\n",
              "\n",
              "#sk-container-id-1 pre {\n",
              "  padding: 0;\n",
              "}\n",
              "\n",
              "#sk-container-id-1 input.sk-hidden--visually {\n",
              "  border: 0;\n",
              "  clip: rect(1px 1px 1px 1px);\n",
              "  clip: rect(1px, 1px, 1px, 1px);\n",
              "  height: 1px;\n",
              "  margin: -1px;\n",
              "  overflow: hidden;\n",
              "  padding: 0;\n",
              "  position: absolute;\n",
              "  width: 1px;\n",
              "}\n",
              "\n",
              "#sk-container-id-1 div.sk-dashed-wrapped {\n",
              "  border: 1px dashed var(--sklearn-color-line);\n",
              "  margin: 0 0.4em 0.5em 0.4em;\n",
              "  box-sizing: border-box;\n",
              "  padding-bottom: 0.4em;\n",
              "  background-color: var(--sklearn-color-background);\n",
              "}\n",
              "\n",
              "#sk-container-id-1 div.sk-container {\n",
              "  /* jupyter's `normalize.less` sets `[hidden] { display: none; }`\n",
              "     but bootstrap.min.css set `[hidden] { display: none !important; }`\n",
              "     so we also need the `!important` here to be able to override the\n",
              "     default hidden behavior on the sphinx rendered scikit-learn.org.\n",
              "     See: https://github.com/scikit-learn/scikit-learn/issues/21755 */\n",
              "  display: inline-block !important;\n",
              "  position: relative;\n",
              "}\n",
              "\n",
              "#sk-container-id-1 div.sk-text-repr-fallback {\n",
              "  display: none;\n",
              "}\n",
              "\n",
              "div.sk-parallel-item,\n",
              "div.sk-serial,\n",
              "div.sk-item {\n",
              "  /* draw centered vertical line to link estimators */\n",
              "  background-image: linear-gradient(var(--sklearn-color-text-on-default-background), var(--sklearn-color-text-on-default-background));\n",
              "  background-size: 2px 100%;\n",
              "  background-repeat: no-repeat;\n",
              "  background-position: center center;\n",
              "}\n",
              "\n",
              "/* Parallel-specific style estimator block */\n",
              "\n",
              "#sk-container-id-1 div.sk-parallel-item::after {\n",
              "  content: \"\";\n",
              "  width: 100%;\n",
              "  border-bottom: 2px solid var(--sklearn-color-text-on-default-background);\n",
              "  flex-grow: 1;\n",
              "}\n",
              "\n",
              "#sk-container-id-1 div.sk-parallel {\n",
              "  display: flex;\n",
              "  align-items: stretch;\n",
              "  justify-content: center;\n",
              "  background-color: var(--sklearn-color-background);\n",
              "  position: relative;\n",
              "}\n",
              "\n",
              "#sk-container-id-1 div.sk-parallel-item {\n",
              "  display: flex;\n",
              "  flex-direction: column;\n",
              "}\n",
              "\n",
              "#sk-container-id-1 div.sk-parallel-item:first-child::after {\n",
              "  align-self: flex-end;\n",
              "  width: 50%;\n",
              "}\n",
              "\n",
              "#sk-container-id-1 div.sk-parallel-item:last-child::after {\n",
              "  align-self: flex-start;\n",
              "  width: 50%;\n",
              "}\n",
              "\n",
              "#sk-container-id-1 div.sk-parallel-item:only-child::after {\n",
              "  width: 0;\n",
              "}\n",
              "\n",
              "/* Serial-specific style estimator block */\n",
              "\n",
              "#sk-container-id-1 div.sk-serial {\n",
              "  display: flex;\n",
              "  flex-direction: column;\n",
              "  align-items: center;\n",
              "  background-color: var(--sklearn-color-background);\n",
              "  padding-right: 1em;\n",
              "  padding-left: 1em;\n",
              "}\n",
              "\n",
              "\n",
              "/* Toggleable style: style used for estimator/Pipeline/ColumnTransformer box that is\n",
              "clickable and can be expanded/collapsed.\n",
              "- Pipeline and ColumnTransformer use this feature and define the default style\n",
              "- Estimators will overwrite some part of the style using the `sk-estimator` class\n",
              "*/\n",
              "\n",
              "/* Pipeline and ColumnTransformer style (default) */\n",
              "\n",
              "#sk-container-id-1 div.sk-toggleable {\n",
              "  /* Default theme specific background. It is overwritten whether we have a\n",
              "  specific estimator or a Pipeline/ColumnTransformer */\n",
              "  background-color: var(--sklearn-color-background);\n",
              "}\n",
              "\n",
              "/* Toggleable label */\n",
              "#sk-container-id-1 label.sk-toggleable__label {\n",
              "  cursor: pointer;\n",
              "  display: flex;\n",
              "  width: 100%;\n",
              "  margin-bottom: 0;\n",
              "  padding: 0.5em;\n",
              "  box-sizing: border-box;\n",
              "  text-align: center;\n",
              "  align-items: start;\n",
              "  justify-content: space-between;\n",
              "  gap: 0.5em;\n",
              "}\n",
              "\n",
              "#sk-container-id-1 label.sk-toggleable__label .caption {\n",
              "  font-size: 0.6rem;\n",
              "  font-weight: lighter;\n",
              "  color: var(--sklearn-color-text-muted);\n",
              "}\n",
              "\n",
              "#sk-container-id-1 label.sk-toggleable__label-arrow:before {\n",
              "  /* Arrow on the left of the label */\n",
              "  content: \"▸\";\n",
              "  float: left;\n",
              "  margin-right: 0.25em;\n",
              "  color: var(--sklearn-color-icon);\n",
              "}\n",
              "\n",
              "#sk-container-id-1 label.sk-toggleable__label-arrow:hover:before {\n",
              "  color: var(--sklearn-color-text);\n",
              "}\n",
              "\n",
              "/* Toggleable content - dropdown */\n",
              "\n",
              "#sk-container-id-1 div.sk-toggleable__content {\n",
              "  max-height: 0;\n",
              "  max-width: 0;\n",
              "  overflow: hidden;\n",
              "  text-align: left;\n",
              "  /* unfitted */\n",
              "  background-color: var(--sklearn-color-unfitted-level-0);\n",
              "}\n",
              "\n",
              "#sk-container-id-1 div.sk-toggleable__content.fitted {\n",
              "  /* fitted */\n",
              "  background-color: var(--sklearn-color-fitted-level-0);\n",
              "}\n",
              "\n",
              "#sk-container-id-1 div.sk-toggleable__content pre {\n",
              "  margin: 0.2em;\n",
              "  border-radius: 0.25em;\n",
              "  color: var(--sklearn-color-text);\n",
              "  /* unfitted */\n",
              "  background-color: var(--sklearn-color-unfitted-level-0);\n",
              "}\n",
              "\n",
              "#sk-container-id-1 div.sk-toggleable__content.fitted pre {\n",
              "  /* unfitted */\n",
              "  background-color: var(--sklearn-color-fitted-level-0);\n",
              "}\n",
              "\n",
              "#sk-container-id-1 input.sk-toggleable__control:checked~div.sk-toggleable__content {\n",
              "  /* Expand drop-down */\n",
              "  max-height: 200px;\n",
              "  max-width: 100%;\n",
              "  overflow: auto;\n",
              "}\n",
              "\n",
              "#sk-container-id-1 input.sk-toggleable__control:checked~label.sk-toggleable__label-arrow:before {\n",
              "  content: \"▾\";\n",
              "}\n",
              "\n",
              "/* Pipeline/ColumnTransformer-specific style */\n",
              "\n",
              "#sk-container-id-1 div.sk-label input.sk-toggleable__control:checked~label.sk-toggleable__label {\n",
              "  color: var(--sklearn-color-text);\n",
              "  background-color: var(--sklearn-color-unfitted-level-2);\n",
              "}\n",
              "\n",
              "#sk-container-id-1 div.sk-label.fitted input.sk-toggleable__control:checked~label.sk-toggleable__label {\n",
              "  background-color: var(--sklearn-color-fitted-level-2);\n",
              "}\n",
              "\n",
              "/* Estimator-specific style */\n",
              "\n",
              "/* Colorize estimator box */\n",
              "#sk-container-id-1 div.sk-estimator input.sk-toggleable__control:checked~label.sk-toggleable__label {\n",
              "  /* unfitted */\n",
              "  background-color: var(--sklearn-color-unfitted-level-2);\n",
              "}\n",
              "\n",
              "#sk-container-id-1 div.sk-estimator.fitted input.sk-toggleable__control:checked~label.sk-toggleable__label {\n",
              "  /* fitted */\n",
              "  background-color: var(--sklearn-color-fitted-level-2);\n",
              "}\n",
              "\n",
              "#sk-container-id-1 div.sk-label label.sk-toggleable__label,\n",
              "#sk-container-id-1 div.sk-label label {\n",
              "  /* The background is the default theme color */\n",
              "  color: var(--sklearn-color-text-on-default-background);\n",
              "}\n",
              "\n",
              "/* On hover, darken the color of the background */\n",
              "#sk-container-id-1 div.sk-label:hover label.sk-toggleable__label {\n",
              "  color: var(--sklearn-color-text);\n",
              "  background-color: var(--sklearn-color-unfitted-level-2);\n",
              "}\n",
              "\n",
              "/* Label box, darken color on hover, fitted */\n",
              "#sk-container-id-1 div.sk-label.fitted:hover label.sk-toggleable__label.fitted {\n",
              "  color: var(--sklearn-color-text);\n",
              "  background-color: var(--sklearn-color-fitted-level-2);\n",
              "}\n",
              "\n",
              "/* Estimator label */\n",
              "\n",
              "#sk-container-id-1 div.sk-label label {\n",
              "  font-family: monospace;\n",
              "  font-weight: bold;\n",
              "  display: inline-block;\n",
              "  line-height: 1.2em;\n",
              "}\n",
              "\n",
              "#sk-container-id-1 div.sk-label-container {\n",
              "  text-align: center;\n",
              "}\n",
              "\n",
              "/* Estimator-specific */\n",
              "#sk-container-id-1 div.sk-estimator {\n",
              "  font-family: monospace;\n",
              "  border: 1px dotted var(--sklearn-color-border-box);\n",
              "  border-radius: 0.25em;\n",
              "  box-sizing: border-box;\n",
              "  margin-bottom: 0.5em;\n",
              "  /* unfitted */\n",
              "  background-color: var(--sklearn-color-unfitted-level-0);\n",
              "}\n",
              "\n",
              "#sk-container-id-1 div.sk-estimator.fitted {\n",
              "  /* fitted */\n",
              "  background-color: var(--sklearn-color-fitted-level-0);\n",
              "}\n",
              "\n",
              "/* on hover */\n",
              "#sk-container-id-1 div.sk-estimator:hover {\n",
              "  /* unfitted */\n",
              "  background-color: var(--sklearn-color-unfitted-level-2);\n",
              "}\n",
              "\n",
              "#sk-container-id-1 div.sk-estimator.fitted:hover {\n",
              "  /* fitted */\n",
              "  background-color: var(--sklearn-color-fitted-level-2);\n",
              "}\n",
              "\n",
              "/* Specification for estimator info (e.g. \"i\" and \"?\") */\n",
              "\n",
              "/* Common style for \"i\" and \"?\" */\n",
              "\n",
              ".sk-estimator-doc-link,\n",
              "a:link.sk-estimator-doc-link,\n",
              "a:visited.sk-estimator-doc-link {\n",
              "  float: right;\n",
              "  font-size: smaller;\n",
              "  line-height: 1em;\n",
              "  font-family: monospace;\n",
              "  background-color: var(--sklearn-color-background);\n",
              "  border-radius: 1em;\n",
              "  height: 1em;\n",
              "  width: 1em;\n",
              "  text-decoration: none !important;\n",
              "  margin-left: 0.5em;\n",
              "  text-align: center;\n",
              "  /* unfitted */\n",
              "  border: var(--sklearn-color-unfitted-level-1) 1pt solid;\n",
              "  color: var(--sklearn-color-unfitted-level-1);\n",
              "}\n",
              "\n",
              ".sk-estimator-doc-link.fitted,\n",
              "a:link.sk-estimator-doc-link.fitted,\n",
              "a:visited.sk-estimator-doc-link.fitted {\n",
              "  /* fitted */\n",
              "  border: var(--sklearn-color-fitted-level-1) 1pt solid;\n",
              "  color: var(--sklearn-color-fitted-level-1);\n",
              "}\n",
              "\n",
              "/* On hover */\n",
              "div.sk-estimator:hover .sk-estimator-doc-link:hover,\n",
              ".sk-estimator-doc-link:hover,\n",
              "div.sk-label-container:hover .sk-estimator-doc-link:hover,\n",
              ".sk-estimator-doc-link:hover {\n",
              "  /* unfitted */\n",
              "  background-color: var(--sklearn-color-unfitted-level-3);\n",
              "  color: var(--sklearn-color-background);\n",
              "  text-decoration: none;\n",
              "}\n",
              "\n",
              "div.sk-estimator.fitted:hover .sk-estimator-doc-link.fitted:hover,\n",
              ".sk-estimator-doc-link.fitted:hover,\n",
              "div.sk-label-container:hover .sk-estimator-doc-link.fitted:hover,\n",
              ".sk-estimator-doc-link.fitted:hover {\n",
              "  /* fitted */\n",
              "  background-color: var(--sklearn-color-fitted-level-3);\n",
              "  color: var(--sklearn-color-background);\n",
              "  text-decoration: none;\n",
              "}\n",
              "\n",
              "/* Span, style for the box shown on hovering the info icon */\n",
              ".sk-estimator-doc-link span {\n",
              "  display: none;\n",
              "  z-index: 9999;\n",
              "  position: relative;\n",
              "  font-weight: normal;\n",
              "  right: .2ex;\n",
              "  padding: .5ex;\n",
              "  margin: .5ex;\n",
              "  width: min-content;\n",
              "  min-width: 20ex;\n",
              "  max-width: 50ex;\n",
              "  color: var(--sklearn-color-text);\n",
              "  box-shadow: 2pt 2pt 4pt #999;\n",
              "  /* unfitted */\n",
              "  background: var(--sklearn-color-unfitted-level-0);\n",
              "  border: .5pt solid var(--sklearn-color-unfitted-level-3);\n",
              "}\n",
              "\n",
              ".sk-estimator-doc-link.fitted span {\n",
              "  /* fitted */\n",
              "  background: var(--sklearn-color-fitted-level-0);\n",
              "  border: var(--sklearn-color-fitted-level-3);\n",
              "}\n",
              "\n",
              ".sk-estimator-doc-link:hover span {\n",
              "  display: block;\n",
              "}\n",
              "\n",
              "/* \"?\"-specific style due to the `<a>` HTML tag */\n",
              "\n",
              "#sk-container-id-1 a.estimator_doc_link {\n",
              "  float: right;\n",
              "  font-size: 1rem;\n",
              "  line-height: 1em;\n",
              "  font-family: monospace;\n",
              "  background-color: var(--sklearn-color-background);\n",
              "  border-radius: 1rem;\n",
              "  height: 1rem;\n",
              "  width: 1rem;\n",
              "  text-decoration: none;\n",
              "  /* unfitted */\n",
              "  color: var(--sklearn-color-unfitted-level-1);\n",
              "  border: var(--sklearn-color-unfitted-level-1) 1pt solid;\n",
              "}\n",
              "\n",
              "#sk-container-id-1 a.estimator_doc_link.fitted {\n",
              "  /* fitted */\n",
              "  border: var(--sklearn-color-fitted-level-1) 1pt solid;\n",
              "  color: var(--sklearn-color-fitted-level-1);\n",
              "}\n",
              "\n",
              "/* On hover */\n",
              "#sk-container-id-1 a.estimator_doc_link:hover {\n",
              "  /* unfitted */\n",
              "  background-color: var(--sklearn-color-unfitted-level-3);\n",
              "  color: var(--sklearn-color-background);\n",
              "  text-decoration: none;\n",
              "}\n",
              "\n",
              "#sk-container-id-1 a.estimator_doc_link.fitted:hover {\n",
              "  /* fitted */\n",
              "  background-color: var(--sklearn-color-fitted-level-3);\n",
              "}\n",
              "</style><div id=\"sk-container-id-1\" class=\"sk-top-container\"><div class=\"sk-text-repr-fallback\"><pre>ColumnTransformer(transformers=[(&#x27;num_norm&#x27;,\n",
              "                                 Pipeline(steps=[(&#x27;imputer&#x27;,\n",
              "                                                  SimpleImputer(strategy=&#x27;median&#x27;)),\n",
              "                                                 (&#x27;scaler&#x27;, StandardScaler())]),\n",
              "                                 [&#x27;stock_quantity&#x27;, &#x27;customer_rating&#x27;]),\n",
              "                                (&#x27;num_ext&#x27;,\n",
              "                                 Pipeline(steps=[(&#x27;imputer&#x27;,\n",
              "                                                  SimpleImputer(strategy=&#x27;median&#x27;)),\n",
              "                                                 (&#x27;scaler&#x27;, RobustScaler())]),\n",
              "                                 [&#x27;original_price&#x27;, &#x27;markdown_percentage&#x27;]),\n",
              "                                (&#x27;cat&#x27;,\n",
              "                                 Pipeline(steps=[(&#x27;imputer&#x27;,\n",
              "                                                  SimpleImputer(strategy=&#x27;most_frequent&#x27;)),\n",
              "                                                 (&#x27;onehot&#x27;,\n",
              "                                                  OneHotEncoder(handle_unknown=&#x27;ignore&#x27;,\n",
              "                                                                sparse_output=False))]),\n",
              "                                 [&#x27;category&#x27;, &#x27;brand&#x27;, &#x27;season&#x27;, &#x27;size&#x27;,\n",
              "                                  &#x27;color&#x27;])])</pre><b>In a Jupyter environment, please rerun this cell to show the HTML representation or trust the notebook. <br />On GitHub, the HTML representation is unable to render, please try loading this page with nbviewer.org.</b></div><div class=\"sk-container\" hidden><div class=\"sk-item sk-dashed-wrapped\"><div class=\"sk-label-container\"><div class=\"sk-label  sk-toggleable\"><input class=\"sk-toggleable__control sk-hidden--visually\" id=\"sk-estimator-id-1\" type=\"checkbox\" ><label for=\"sk-estimator-id-1\" class=\"sk-toggleable__label  sk-toggleable__label-arrow\"><div><div>ColumnTransformer</div></div><div><a class=\"sk-estimator-doc-link \" rel=\"noreferrer\" target=\"_blank\" href=\"https://scikit-learn.org/1.6/modules/generated/sklearn.compose.ColumnTransformer.html\">?<span>Documentation for ColumnTransformer</span></a><span class=\"sk-estimator-doc-link \">i<span>Not fitted</span></span></div></label><div class=\"sk-toggleable__content \"><pre>ColumnTransformer(transformers=[(&#x27;num_norm&#x27;,\n",
              "                                 Pipeline(steps=[(&#x27;imputer&#x27;,\n",
              "                                                  SimpleImputer(strategy=&#x27;median&#x27;)),\n",
              "                                                 (&#x27;scaler&#x27;, StandardScaler())]),\n",
              "                                 [&#x27;stock_quantity&#x27;, &#x27;customer_rating&#x27;]),\n",
              "                                (&#x27;num_ext&#x27;,\n",
              "                                 Pipeline(steps=[(&#x27;imputer&#x27;,\n",
              "                                                  SimpleImputer(strategy=&#x27;median&#x27;)),\n",
              "                                                 (&#x27;scaler&#x27;, RobustScaler())]),\n",
              "                                 [&#x27;original_price&#x27;, &#x27;markdown_percentage&#x27;]),\n",
              "                                (&#x27;cat&#x27;,\n",
              "                                 Pipeline(steps=[(&#x27;imputer&#x27;,\n",
              "                                                  SimpleImputer(strategy=&#x27;most_frequent&#x27;)),\n",
              "                                                 (&#x27;onehot&#x27;,\n",
              "                                                  OneHotEncoder(handle_unknown=&#x27;ignore&#x27;,\n",
              "                                                                sparse_output=False))]),\n",
              "                                 [&#x27;category&#x27;, &#x27;brand&#x27;, &#x27;season&#x27;, &#x27;size&#x27;,\n",
              "                                  &#x27;color&#x27;])])</pre></div> </div></div><div class=\"sk-parallel\"><div class=\"sk-parallel-item\"><div class=\"sk-item\"><div class=\"sk-label-container\"><div class=\"sk-label  sk-toggleable\"><input class=\"sk-toggleable__control sk-hidden--visually\" id=\"sk-estimator-id-2\" type=\"checkbox\" ><label for=\"sk-estimator-id-2\" class=\"sk-toggleable__label  sk-toggleable__label-arrow\"><div><div>num_norm</div></div></label><div class=\"sk-toggleable__content \"><pre>[&#x27;stock_quantity&#x27;, &#x27;customer_rating&#x27;]</pre></div> </div></div><div class=\"sk-serial\"><div class=\"sk-item\"><div class=\"sk-serial\"><div class=\"sk-item\"><div class=\"sk-estimator  sk-toggleable\"><input class=\"sk-toggleable__control sk-hidden--visually\" id=\"sk-estimator-id-3\" type=\"checkbox\" ><label for=\"sk-estimator-id-3\" class=\"sk-toggleable__label  sk-toggleable__label-arrow\"><div><div>SimpleImputer</div></div><div><a class=\"sk-estimator-doc-link \" rel=\"noreferrer\" target=\"_blank\" href=\"https://scikit-learn.org/1.6/modules/generated/sklearn.impute.SimpleImputer.html\">?<span>Documentation for SimpleImputer</span></a></div></label><div class=\"sk-toggleable__content \"><pre>SimpleImputer(strategy=&#x27;median&#x27;)</pre></div> </div></div><div class=\"sk-item\"><div class=\"sk-estimator  sk-toggleable\"><input class=\"sk-toggleable__control sk-hidden--visually\" id=\"sk-estimator-id-4\" type=\"checkbox\" ><label for=\"sk-estimator-id-4\" class=\"sk-toggleable__label  sk-toggleable__label-arrow\"><div><div>StandardScaler</div></div><div><a class=\"sk-estimator-doc-link \" rel=\"noreferrer\" target=\"_blank\" href=\"https://scikit-learn.org/1.6/modules/generated/sklearn.preprocessing.StandardScaler.html\">?<span>Documentation for StandardScaler</span></a></div></label><div class=\"sk-toggleable__content \"><pre>StandardScaler()</pre></div> </div></div></div></div></div></div></div><div class=\"sk-parallel-item\"><div class=\"sk-item\"><div class=\"sk-label-container\"><div class=\"sk-label  sk-toggleable\"><input class=\"sk-toggleable__control sk-hidden--visually\" id=\"sk-estimator-id-5\" type=\"checkbox\" ><label for=\"sk-estimator-id-5\" class=\"sk-toggleable__label  sk-toggleable__label-arrow\"><div><div>num_ext</div></div></label><div class=\"sk-toggleable__content \"><pre>[&#x27;original_price&#x27;, &#x27;markdown_percentage&#x27;]</pre></div> </div></div><div class=\"sk-serial\"><div class=\"sk-item\"><div class=\"sk-serial\"><div class=\"sk-item\"><div class=\"sk-estimator  sk-toggleable\"><input class=\"sk-toggleable__control sk-hidden--visually\" id=\"sk-estimator-id-6\" type=\"checkbox\" ><label for=\"sk-estimator-id-6\" class=\"sk-toggleable__label  sk-toggleable__label-arrow\"><div><div>SimpleImputer</div></div><div><a class=\"sk-estimator-doc-link \" rel=\"noreferrer\" target=\"_blank\" href=\"https://scikit-learn.org/1.6/modules/generated/sklearn.impute.SimpleImputer.html\">?<span>Documentation for SimpleImputer</span></a></div></label><div class=\"sk-toggleable__content \"><pre>SimpleImputer(strategy=&#x27;median&#x27;)</pre></div> </div></div><div class=\"sk-item\"><div class=\"sk-estimator  sk-toggleable\"><input class=\"sk-toggleable__control sk-hidden--visually\" id=\"sk-estimator-id-7\" type=\"checkbox\" ><label for=\"sk-estimator-id-7\" class=\"sk-toggleable__label  sk-toggleable__label-arrow\"><div><div>RobustScaler</div></div><div><a class=\"sk-estimator-doc-link \" rel=\"noreferrer\" target=\"_blank\" href=\"https://scikit-learn.org/1.6/modules/generated/sklearn.preprocessing.RobustScaler.html\">?<span>Documentation for RobustScaler</span></a></div></label><div class=\"sk-toggleable__content \"><pre>RobustScaler()</pre></div> </div></div></div></div></div></div></div><div class=\"sk-parallel-item\"><div class=\"sk-item\"><div class=\"sk-label-container\"><div class=\"sk-label  sk-toggleable\"><input class=\"sk-toggleable__control sk-hidden--visually\" id=\"sk-estimator-id-8\" type=\"checkbox\" ><label for=\"sk-estimator-id-8\" class=\"sk-toggleable__label  sk-toggleable__label-arrow\"><div><div>cat</div></div></label><div class=\"sk-toggleable__content \"><pre>[&#x27;category&#x27;, &#x27;brand&#x27;, &#x27;season&#x27;, &#x27;size&#x27;, &#x27;color&#x27;]</pre></div> </div></div><div class=\"sk-serial\"><div class=\"sk-item\"><div class=\"sk-serial\"><div class=\"sk-item\"><div class=\"sk-estimator  sk-toggleable\"><input class=\"sk-toggleable__control sk-hidden--visually\" id=\"sk-estimator-id-9\" type=\"checkbox\" ><label for=\"sk-estimator-id-9\" class=\"sk-toggleable__label  sk-toggleable__label-arrow\"><div><div>SimpleImputer</div></div><div><a class=\"sk-estimator-doc-link \" rel=\"noreferrer\" target=\"_blank\" href=\"https://scikit-learn.org/1.6/modules/generated/sklearn.impute.SimpleImputer.html\">?<span>Documentation for SimpleImputer</span></a></div></label><div class=\"sk-toggleable__content \"><pre>SimpleImputer(strategy=&#x27;most_frequent&#x27;)</pre></div> </div></div><div class=\"sk-item\"><div class=\"sk-estimator  sk-toggleable\"><input class=\"sk-toggleable__control sk-hidden--visually\" id=\"sk-estimator-id-10\" type=\"checkbox\" ><label for=\"sk-estimator-id-10\" class=\"sk-toggleable__label  sk-toggleable__label-arrow\"><div><div>OneHotEncoder</div></div><div><a class=\"sk-estimator-doc-link \" rel=\"noreferrer\" target=\"_blank\" href=\"https://scikit-learn.org/1.6/modules/generated/sklearn.preprocessing.OneHotEncoder.html\">?<span>Documentation for OneHotEncoder</span></a></div></label><div class=\"sk-toggleable__content \"><pre>OneHotEncoder(handle_unknown=&#x27;ignore&#x27;, sparse_output=False)</pre></div> </div></div></div></div></div></div></div></div></div></div></div>"
            ],
            "text/plain": [
              "ColumnTransformer(transformers=[('num_norm',\n",
              "                                 Pipeline(steps=[('imputer',\n",
              "                                                  SimpleImputer(strategy='median')),\n",
              "                                                 ('scaler', StandardScaler())]),\n",
              "                                 ['stock_quantity', 'customer_rating']),\n",
              "                                ('num_ext',\n",
              "                                 Pipeline(steps=[('imputer',\n",
              "                                                  SimpleImputer(strategy='median')),\n",
              "                                                 ('scaler', RobustScaler())]),\n",
              "                                 ['original_price', 'markdown_percentage']),\n",
              "                                ('cat',\n",
              "                                 Pipeline(steps=[('imputer',\n",
              "                                                  SimpleImputer(strategy='most_frequent')),\n",
              "                                                 ('onehot',\n",
              "                                                  OneHotEncoder(handle_unknown='ignore',\n",
              "                                                                sparse_output=False))]),\n",
              "                                 ['category', 'brand', 'season', 'size',\n",
              "                                  'color'])])"
            ]
          },
          "execution_count": 26,
          "metadata": {},
          "output_type": "execute_result"
        }
      ],
      "source": [
        "preprocessor = ColumnTransformer(\n",
        "    transformers=[\n",
        "        ('num_norm', numeric_normal_pipeline, numeric_normal),\n",
        "        ('num_ext', numeric_extreme_pipeline, numeric_extreme),\n",
        "        ('cat', categorical_pipeline, category)\n",
        "    ],\n",
        "    remainder='drop'\n",
        ")\n",
        "preprocessor"
      ]
    },
    {
      "cell_type": "markdown",
      "metadata": {
        "id": "Y9A1sOgg32C6"
      },
      "source": [
        "# Model Definition"
      ]
    },
    {
      "cell_type": "code",
      "execution_count": 27,
      "metadata": {
        "id": "jq7JV9RnC7al"
      },
      "outputs": [],
      "source": [
        "#baseline model\n",
        "models = {\n",
        "    'KNN': KNeighborsClassifier(),\n",
        "    'SVM': SVC(kernel='rbf', probability=True, random_state=42),\n",
        "    'DecisionTree': DecisionTreeClassifier(random_state=42),\n",
        "    'RandomForest': RandomForestClassifier(random_state=42),\n",
        "    'GradientBoosting': GradientBoostingClassifier(random_state=42),\n",
        "}"
      ]
    },
    {
      "cell_type": "markdown",
      "metadata": {
        "id": "LLKKRsxH34Or"
      },
      "source": [
        "# Model Training"
      ]
    },
    {
      "cell_type": "markdown",
      "metadata": {
        "id": "wzFMkr7qbOAl"
      },
      "source": [
        "## Cross Validation"
      ]
    },
    {
      "cell_type": "code",
      "execution_count": 28,
      "metadata": {
        "id": "AGU1LIwoVHmY"
      },
      "outputs": [],
      "source": [
        "#scoring\n",
        "scoring = {\n",
        "    'roc_auc': 'roc_auc',\n",
        "    'average_precision': 'average_precision',\n",
        "    'f1_pos': make_scorer(f1_score, pos_label=True),\n",
        "    'balanced_accuracy': 'balanced_accuracy',\n",
        "    'accuracy': 'accuracy',\n",
        "}\n",
        "\n",
        "#cross validation\n",
        "cv = StratifiedKFold(n_splits=5, shuffle=True, random_state=42)"
      ]
    },
    {
      "cell_type": "code",
      "execution_count": 29,
      "metadata": {
        "colab": {
          "base_uri": "https://localhost:8080/",
          "height": 206
        },
        "id": "4JcHVXtNVR8U",
        "outputId": "67297f87-2a84-4e27-ed9a-9bc9bb1dff70"
      },
      "outputs": [
        {
          "data": {
            "text/html": [
              "<div>\n",
              "<style scoped>\n",
              "    .dataframe tbody tr th:only-of-type {\n",
              "        vertical-align: middle;\n",
              "    }\n",
              "\n",
              "    .dataframe tbody tr th {\n",
              "        vertical-align: top;\n",
              "    }\n",
              "\n",
              "    .dataframe thead th {\n",
              "        text-align: right;\n",
              "    }\n",
              "</style>\n",
              "<table border=\"1\" class=\"dataframe\">\n",
              "  <thead>\n",
              "    <tr style=\"text-align: right;\">\n",
              "      <th></th>\n",
              "      <th>mean_roc_auc</th>\n",
              "      <th>std_roc_auc</th>\n",
              "    </tr>\n",
              "  </thead>\n",
              "  <tbody>\n",
              "    <tr>\n",
              "      <th>KNN</th>\n",
              "      <td>0.511547</td>\n",
              "      <td>0.023179</td>\n",
              "    </tr>\n",
              "    <tr>\n",
              "      <th>DecisionTree</th>\n",
              "      <td>0.488900</td>\n",
              "      <td>0.022147</td>\n",
              "    </tr>\n",
              "    <tr>\n",
              "      <th>RandomForest</th>\n",
              "      <td>0.485335</td>\n",
              "      <td>0.028049</td>\n",
              "    </tr>\n",
              "    <tr>\n",
              "      <th>SVM</th>\n",
              "      <td>0.481613</td>\n",
              "      <td>0.015993</td>\n",
              "    </tr>\n",
              "    <tr>\n",
              "      <th>GradientBoosting</th>\n",
              "      <td>0.478441</td>\n",
              "      <td>0.032892</td>\n",
              "    </tr>\n",
              "  </tbody>\n",
              "</table>\n",
              "</div>"
            ],
            "text/plain": [
              "                  mean_roc_auc  std_roc_auc\n",
              "KNN                   0.511547     0.023179\n",
              "DecisionTree          0.488900     0.022147\n",
              "RandomForest          0.485335     0.028049\n",
              "SVM                   0.481613     0.015993\n",
              "GradientBoosting      0.478441     0.032892"
            ]
          },
          "execution_count": 29,
          "metadata": {},
          "output_type": "execute_result"
        }
      ],
      "source": [
        "#Cross validation\n",
        "results = {}\n",
        "for name, model in models.items():\n",
        "    pipeline = Pipeline(steps=[('preprocessor', preprocessor),\n",
        "                               ('classifier', model)])\n",
        "    \n",
        "    # Gunakan cross-validation dengan metrik ROC-AUC\n",
        "    cv_scores = cross_val_score(pipeline, X_train, y_train, cv=5, scoring='roc_auc')\n",
        "    results[name] = {'mean_roc_auc': cv_scores.mean(), 'std_roc_auc': cv_scores.std()}\n",
        "\n",
        "#summary\n",
        "pd.DataFrame(results).T.sort_values(by='mean_roc_auc', ascending=False)"
      ]
    },
    {
      "cell_type": "markdown",
      "metadata": {
        "id": "rDoZDsFXaF4t"
      },
      "source": [
        "**INSIGHT**\n",
        "\n",
        "Nilai ROC-AUC untuk semua model baseline sangat rendah berkisar antara 0.47 hingga 0.51. KNN merupakan model terbaik dengan nilai 0.51. Ini menunjukkan bahwa semua model, tanpa penyesuaian (tuning), belum mampu memprediksi retur produk dengan baik"
      ]
    },
    {
      "cell_type": "markdown",
      "metadata": {
        "id": "uUlQnDwBbQ4e"
      },
      "source": [
        "## Hyperparameter Tuning"
      ]
    },
    {
      "cell_type": "code",
      "execution_count": 30,
      "metadata": {
        "colab": {
          "base_uri": "https://localhost:8080/",
          "height": 341
        },
        "id": "e6obFkgdb4Hk",
        "outputId": "911fc290-133b-43a3-af5b-da4afce9180c"
      },
      "outputs": [
        {
          "name": "stdout",
          "output_type": "stream",
          "text": [
            "Fitting 5 folds for each of 16 candidates, totalling 80 fits\n"
          ]
        },
        {
          "data": {
            "text/html": [
              "<style>#sk-container-id-2 {\n",
              "  /* Definition of color scheme common for light and dark mode */\n",
              "  --sklearn-color-text: #000;\n",
              "  --sklearn-color-text-muted: #666;\n",
              "  --sklearn-color-line: gray;\n",
              "  /* Definition of color scheme for unfitted estimators */\n",
              "  --sklearn-color-unfitted-level-0: #fff5e6;\n",
              "  --sklearn-color-unfitted-level-1: #f6e4d2;\n",
              "  --sklearn-color-unfitted-level-2: #ffe0b3;\n",
              "  --sklearn-color-unfitted-level-3: chocolate;\n",
              "  /* Definition of color scheme for fitted estimators */\n",
              "  --sklearn-color-fitted-level-0: #f0f8ff;\n",
              "  --sklearn-color-fitted-level-1: #d4ebff;\n",
              "  --sklearn-color-fitted-level-2: #b3dbfd;\n",
              "  --sklearn-color-fitted-level-3: cornflowerblue;\n",
              "\n",
              "  /* Specific color for light theme */\n",
              "  --sklearn-color-text-on-default-background: var(--sg-text-color, var(--theme-code-foreground, var(--jp-content-font-color1, black)));\n",
              "  --sklearn-color-background: var(--sg-background-color, var(--theme-background, var(--jp-layout-color0, white)));\n",
              "  --sklearn-color-border-box: var(--sg-text-color, var(--theme-code-foreground, var(--jp-content-font-color1, black)));\n",
              "  --sklearn-color-icon: #696969;\n",
              "\n",
              "  @media (prefers-color-scheme: dark) {\n",
              "    /* Redefinition of color scheme for dark theme */\n",
              "    --sklearn-color-text-on-default-background: var(--sg-text-color, var(--theme-code-foreground, var(--jp-content-font-color1, white)));\n",
              "    --sklearn-color-background: var(--sg-background-color, var(--theme-background, var(--jp-layout-color0, #111)));\n",
              "    --sklearn-color-border-box: var(--sg-text-color, var(--theme-code-foreground, var(--jp-content-font-color1, white)));\n",
              "    --sklearn-color-icon: #878787;\n",
              "  }\n",
              "}\n",
              "\n",
              "#sk-container-id-2 {\n",
              "  color: var(--sklearn-color-text);\n",
              "}\n",
              "\n",
              "#sk-container-id-2 pre {\n",
              "  padding: 0;\n",
              "}\n",
              "\n",
              "#sk-container-id-2 input.sk-hidden--visually {\n",
              "  border: 0;\n",
              "  clip: rect(1px 1px 1px 1px);\n",
              "  clip: rect(1px, 1px, 1px, 1px);\n",
              "  height: 1px;\n",
              "  margin: -1px;\n",
              "  overflow: hidden;\n",
              "  padding: 0;\n",
              "  position: absolute;\n",
              "  width: 1px;\n",
              "}\n",
              "\n",
              "#sk-container-id-2 div.sk-dashed-wrapped {\n",
              "  border: 1px dashed var(--sklearn-color-line);\n",
              "  margin: 0 0.4em 0.5em 0.4em;\n",
              "  box-sizing: border-box;\n",
              "  padding-bottom: 0.4em;\n",
              "  background-color: var(--sklearn-color-background);\n",
              "}\n",
              "\n",
              "#sk-container-id-2 div.sk-container {\n",
              "  /* jupyter's `normalize.less` sets `[hidden] { display: none; }`\n",
              "     but bootstrap.min.css set `[hidden] { display: none !important; }`\n",
              "     so we also need the `!important` here to be able to override the\n",
              "     default hidden behavior on the sphinx rendered scikit-learn.org.\n",
              "     See: https://github.com/scikit-learn/scikit-learn/issues/21755 */\n",
              "  display: inline-block !important;\n",
              "  position: relative;\n",
              "}\n",
              "\n",
              "#sk-container-id-2 div.sk-text-repr-fallback {\n",
              "  display: none;\n",
              "}\n",
              "\n",
              "div.sk-parallel-item,\n",
              "div.sk-serial,\n",
              "div.sk-item {\n",
              "  /* draw centered vertical line to link estimators */\n",
              "  background-image: linear-gradient(var(--sklearn-color-text-on-default-background), var(--sklearn-color-text-on-default-background));\n",
              "  background-size: 2px 100%;\n",
              "  background-repeat: no-repeat;\n",
              "  background-position: center center;\n",
              "}\n",
              "\n",
              "/* Parallel-specific style estimator block */\n",
              "\n",
              "#sk-container-id-2 div.sk-parallel-item::after {\n",
              "  content: \"\";\n",
              "  width: 100%;\n",
              "  border-bottom: 2px solid var(--sklearn-color-text-on-default-background);\n",
              "  flex-grow: 1;\n",
              "}\n",
              "\n",
              "#sk-container-id-2 div.sk-parallel {\n",
              "  display: flex;\n",
              "  align-items: stretch;\n",
              "  justify-content: center;\n",
              "  background-color: var(--sklearn-color-background);\n",
              "  position: relative;\n",
              "}\n",
              "\n",
              "#sk-container-id-2 div.sk-parallel-item {\n",
              "  display: flex;\n",
              "  flex-direction: column;\n",
              "}\n",
              "\n",
              "#sk-container-id-2 div.sk-parallel-item:first-child::after {\n",
              "  align-self: flex-end;\n",
              "  width: 50%;\n",
              "}\n",
              "\n",
              "#sk-container-id-2 div.sk-parallel-item:last-child::after {\n",
              "  align-self: flex-start;\n",
              "  width: 50%;\n",
              "}\n",
              "\n",
              "#sk-container-id-2 div.sk-parallel-item:only-child::after {\n",
              "  width: 0;\n",
              "}\n",
              "\n",
              "/* Serial-specific style estimator block */\n",
              "\n",
              "#sk-container-id-2 div.sk-serial {\n",
              "  display: flex;\n",
              "  flex-direction: column;\n",
              "  align-items: center;\n",
              "  background-color: var(--sklearn-color-background);\n",
              "  padding-right: 1em;\n",
              "  padding-left: 1em;\n",
              "}\n",
              "\n",
              "\n",
              "/* Toggleable style: style used for estimator/Pipeline/ColumnTransformer box that is\n",
              "clickable and can be expanded/collapsed.\n",
              "- Pipeline and ColumnTransformer use this feature and define the default style\n",
              "- Estimators will overwrite some part of the style using the `sk-estimator` class\n",
              "*/\n",
              "\n",
              "/* Pipeline and ColumnTransformer style (default) */\n",
              "\n",
              "#sk-container-id-2 div.sk-toggleable {\n",
              "  /* Default theme specific background. It is overwritten whether we have a\n",
              "  specific estimator or a Pipeline/ColumnTransformer */\n",
              "  background-color: var(--sklearn-color-background);\n",
              "}\n",
              "\n",
              "/* Toggleable label */\n",
              "#sk-container-id-2 label.sk-toggleable__label {\n",
              "  cursor: pointer;\n",
              "  display: flex;\n",
              "  width: 100%;\n",
              "  margin-bottom: 0;\n",
              "  padding: 0.5em;\n",
              "  box-sizing: border-box;\n",
              "  text-align: center;\n",
              "  align-items: start;\n",
              "  justify-content: space-between;\n",
              "  gap: 0.5em;\n",
              "}\n",
              "\n",
              "#sk-container-id-2 label.sk-toggleable__label .caption {\n",
              "  font-size: 0.6rem;\n",
              "  font-weight: lighter;\n",
              "  color: var(--sklearn-color-text-muted);\n",
              "}\n",
              "\n",
              "#sk-container-id-2 label.sk-toggleable__label-arrow:before {\n",
              "  /* Arrow on the left of the label */\n",
              "  content: \"▸\";\n",
              "  float: left;\n",
              "  margin-right: 0.25em;\n",
              "  color: var(--sklearn-color-icon);\n",
              "}\n",
              "\n",
              "#sk-container-id-2 label.sk-toggleable__label-arrow:hover:before {\n",
              "  color: var(--sklearn-color-text);\n",
              "}\n",
              "\n",
              "/* Toggleable content - dropdown */\n",
              "\n",
              "#sk-container-id-2 div.sk-toggleable__content {\n",
              "  max-height: 0;\n",
              "  max-width: 0;\n",
              "  overflow: hidden;\n",
              "  text-align: left;\n",
              "  /* unfitted */\n",
              "  background-color: var(--sklearn-color-unfitted-level-0);\n",
              "}\n",
              "\n",
              "#sk-container-id-2 div.sk-toggleable__content.fitted {\n",
              "  /* fitted */\n",
              "  background-color: var(--sklearn-color-fitted-level-0);\n",
              "}\n",
              "\n",
              "#sk-container-id-2 div.sk-toggleable__content pre {\n",
              "  margin: 0.2em;\n",
              "  border-radius: 0.25em;\n",
              "  color: var(--sklearn-color-text);\n",
              "  /* unfitted */\n",
              "  background-color: var(--sklearn-color-unfitted-level-0);\n",
              "}\n",
              "\n",
              "#sk-container-id-2 div.sk-toggleable__content.fitted pre {\n",
              "  /* unfitted */\n",
              "  background-color: var(--sklearn-color-fitted-level-0);\n",
              "}\n",
              "\n",
              "#sk-container-id-2 input.sk-toggleable__control:checked~div.sk-toggleable__content {\n",
              "  /* Expand drop-down */\n",
              "  max-height: 200px;\n",
              "  max-width: 100%;\n",
              "  overflow: auto;\n",
              "}\n",
              "\n",
              "#sk-container-id-2 input.sk-toggleable__control:checked~label.sk-toggleable__label-arrow:before {\n",
              "  content: \"▾\";\n",
              "}\n",
              "\n",
              "/* Pipeline/ColumnTransformer-specific style */\n",
              "\n",
              "#sk-container-id-2 div.sk-label input.sk-toggleable__control:checked~label.sk-toggleable__label {\n",
              "  color: var(--sklearn-color-text);\n",
              "  background-color: var(--sklearn-color-unfitted-level-2);\n",
              "}\n",
              "\n",
              "#sk-container-id-2 div.sk-label.fitted input.sk-toggleable__control:checked~label.sk-toggleable__label {\n",
              "  background-color: var(--sklearn-color-fitted-level-2);\n",
              "}\n",
              "\n",
              "/* Estimator-specific style */\n",
              "\n",
              "/* Colorize estimator box */\n",
              "#sk-container-id-2 div.sk-estimator input.sk-toggleable__control:checked~label.sk-toggleable__label {\n",
              "  /* unfitted */\n",
              "  background-color: var(--sklearn-color-unfitted-level-2);\n",
              "}\n",
              "\n",
              "#sk-container-id-2 div.sk-estimator.fitted input.sk-toggleable__control:checked~label.sk-toggleable__label {\n",
              "  /* fitted */\n",
              "  background-color: var(--sklearn-color-fitted-level-2);\n",
              "}\n",
              "\n",
              "#sk-container-id-2 div.sk-label label.sk-toggleable__label,\n",
              "#sk-container-id-2 div.sk-label label {\n",
              "  /* The background is the default theme color */\n",
              "  color: var(--sklearn-color-text-on-default-background);\n",
              "}\n",
              "\n",
              "/* On hover, darken the color of the background */\n",
              "#sk-container-id-2 div.sk-label:hover label.sk-toggleable__label {\n",
              "  color: var(--sklearn-color-text);\n",
              "  background-color: var(--sklearn-color-unfitted-level-2);\n",
              "}\n",
              "\n",
              "/* Label box, darken color on hover, fitted */\n",
              "#sk-container-id-2 div.sk-label.fitted:hover label.sk-toggleable__label.fitted {\n",
              "  color: var(--sklearn-color-text);\n",
              "  background-color: var(--sklearn-color-fitted-level-2);\n",
              "}\n",
              "\n",
              "/* Estimator label */\n",
              "\n",
              "#sk-container-id-2 div.sk-label label {\n",
              "  font-family: monospace;\n",
              "  font-weight: bold;\n",
              "  display: inline-block;\n",
              "  line-height: 1.2em;\n",
              "}\n",
              "\n",
              "#sk-container-id-2 div.sk-label-container {\n",
              "  text-align: center;\n",
              "}\n",
              "\n",
              "/* Estimator-specific */\n",
              "#sk-container-id-2 div.sk-estimator {\n",
              "  font-family: monospace;\n",
              "  border: 1px dotted var(--sklearn-color-border-box);\n",
              "  border-radius: 0.25em;\n",
              "  box-sizing: border-box;\n",
              "  margin-bottom: 0.5em;\n",
              "  /* unfitted */\n",
              "  background-color: var(--sklearn-color-unfitted-level-0);\n",
              "}\n",
              "\n",
              "#sk-container-id-2 div.sk-estimator.fitted {\n",
              "  /* fitted */\n",
              "  background-color: var(--sklearn-color-fitted-level-0);\n",
              "}\n",
              "\n",
              "/* on hover */\n",
              "#sk-container-id-2 div.sk-estimator:hover {\n",
              "  /* unfitted */\n",
              "  background-color: var(--sklearn-color-unfitted-level-2);\n",
              "}\n",
              "\n",
              "#sk-container-id-2 div.sk-estimator.fitted:hover {\n",
              "  /* fitted */\n",
              "  background-color: var(--sklearn-color-fitted-level-2);\n",
              "}\n",
              "\n",
              "/* Specification for estimator info (e.g. \"i\" and \"?\") */\n",
              "\n",
              "/* Common style for \"i\" and \"?\" */\n",
              "\n",
              ".sk-estimator-doc-link,\n",
              "a:link.sk-estimator-doc-link,\n",
              "a:visited.sk-estimator-doc-link {\n",
              "  float: right;\n",
              "  font-size: smaller;\n",
              "  line-height: 1em;\n",
              "  font-family: monospace;\n",
              "  background-color: var(--sklearn-color-background);\n",
              "  border-radius: 1em;\n",
              "  height: 1em;\n",
              "  width: 1em;\n",
              "  text-decoration: none !important;\n",
              "  margin-left: 0.5em;\n",
              "  text-align: center;\n",
              "  /* unfitted */\n",
              "  border: var(--sklearn-color-unfitted-level-1) 1pt solid;\n",
              "  color: var(--sklearn-color-unfitted-level-1);\n",
              "}\n",
              "\n",
              ".sk-estimator-doc-link.fitted,\n",
              "a:link.sk-estimator-doc-link.fitted,\n",
              "a:visited.sk-estimator-doc-link.fitted {\n",
              "  /* fitted */\n",
              "  border: var(--sklearn-color-fitted-level-1) 1pt solid;\n",
              "  color: var(--sklearn-color-fitted-level-1);\n",
              "}\n",
              "\n",
              "/* On hover */\n",
              "div.sk-estimator:hover .sk-estimator-doc-link:hover,\n",
              ".sk-estimator-doc-link:hover,\n",
              "div.sk-label-container:hover .sk-estimator-doc-link:hover,\n",
              ".sk-estimator-doc-link:hover {\n",
              "  /* unfitted */\n",
              "  background-color: var(--sklearn-color-unfitted-level-3);\n",
              "  color: var(--sklearn-color-background);\n",
              "  text-decoration: none;\n",
              "}\n",
              "\n",
              "div.sk-estimator.fitted:hover .sk-estimator-doc-link.fitted:hover,\n",
              ".sk-estimator-doc-link.fitted:hover,\n",
              "div.sk-label-container:hover .sk-estimator-doc-link.fitted:hover,\n",
              ".sk-estimator-doc-link.fitted:hover {\n",
              "  /* fitted */\n",
              "  background-color: var(--sklearn-color-fitted-level-3);\n",
              "  color: var(--sklearn-color-background);\n",
              "  text-decoration: none;\n",
              "}\n",
              "\n",
              "/* Span, style for the box shown on hovering the info icon */\n",
              ".sk-estimator-doc-link span {\n",
              "  display: none;\n",
              "  z-index: 9999;\n",
              "  position: relative;\n",
              "  font-weight: normal;\n",
              "  right: .2ex;\n",
              "  padding: .5ex;\n",
              "  margin: .5ex;\n",
              "  width: min-content;\n",
              "  min-width: 20ex;\n",
              "  max-width: 50ex;\n",
              "  color: var(--sklearn-color-text);\n",
              "  box-shadow: 2pt 2pt 4pt #999;\n",
              "  /* unfitted */\n",
              "  background: var(--sklearn-color-unfitted-level-0);\n",
              "  border: .5pt solid var(--sklearn-color-unfitted-level-3);\n",
              "}\n",
              "\n",
              ".sk-estimator-doc-link.fitted span {\n",
              "  /* fitted */\n",
              "  background: var(--sklearn-color-fitted-level-0);\n",
              "  border: var(--sklearn-color-fitted-level-3);\n",
              "}\n",
              "\n",
              ".sk-estimator-doc-link:hover span {\n",
              "  display: block;\n",
              "}\n",
              "\n",
              "/* \"?\"-specific style due to the `<a>` HTML tag */\n",
              "\n",
              "#sk-container-id-2 a.estimator_doc_link {\n",
              "  float: right;\n",
              "  font-size: 1rem;\n",
              "  line-height: 1em;\n",
              "  font-family: monospace;\n",
              "  background-color: var(--sklearn-color-background);\n",
              "  border-radius: 1rem;\n",
              "  height: 1rem;\n",
              "  width: 1rem;\n",
              "  text-decoration: none;\n",
              "  /* unfitted */\n",
              "  color: var(--sklearn-color-unfitted-level-1);\n",
              "  border: var(--sklearn-color-unfitted-level-1) 1pt solid;\n",
              "}\n",
              "\n",
              "#sk-container-id-2 a.estimator_doc_link.fitted {\n",
              "  /* fitted */\n",
              "  border: var(--sklearn-color-fitted-level-1) 1pt solid;\n",
              "  color: var(--sklearn-color-fitted-level-1);\n",
              "}\n",
              "\n",
              "/* On hover */\n",
              "#sk-container-id-2 a.estimator_doc_link:hover {\n",
              "  /* unfitted */\n",
              "  background-color: var(--sklearn-color-unfitted-level-3);\n",
              "  color: var(--sklearn-color-background);\n",
              "  text-decoration: none;\n",
              "}\n",
              "\n",
              "#sk-container-id-2 a.estimator_doc_link.fitted:hover {\n",
              "  /* fitted */\n",
              "  background-color: var(--sklearn-color-fitted-level-3);\n",
              "}\n",
              "</style><div id=\"sk-container-id-2\" class=\"sk-top-container\"><div class=\"sk-text-repr-fallback\"><pre>GridSearchCV(cv=StratifiedKFold(n_splits=5, random_state=42, shuffle=True),\n",
              "             estimator=Pipeline(steps=[(&#x27;preprocessor&#x27;,\n",
              "                                        ColumnTransformer(transformers=[(&#x27;num_norm&#x27;,\n",
              "                                                                         Pipeline(steps=[(&#x27;imputer&#x27;,\n",
              "                                                                                          SimpleImputer(strategy=&#x27;median&#x27;)),\n",
              "                                                                                         (&#x27;scaler&#x27;,\n",
              "                                                                                          StandardScaler())]),\n",
              "                                                                         [&#x27;stock_quantity&#x27;,\n",
              "                                                                          &#x27;customer_rating&#x27;]),\n",
              "                                                                        (&#x27;num_ext&#x27;,\n",
              "                                                                         Pipeline(steps=[(&#x27;imputer&#x27;,\n",
              "                                                                                          SimpleImputer(strategy=&#x27;...\n",
              "                                                                                          OneHotEncoder(handle_unknown=&#x27;ignore&#x27;,\n",
              "                                                                                                        sparse_output=False))]),\n",
              "                                                                         [&#x27;category&#x27;,\n",
              "                                                                          &#x27;brand&#x27;,\n",
              "                                                                          &#x27;season&#x27;,\n",
              "                                                                          &#x27;size&#x27;,\n",
              "                                                                          &#x27;color&#x27;])])),\n",
              "                                       (&#x27;smote&#x27;, SMOTE(random_state=42)),\n",
              "                                       (&#x27;classifier&#x27;, KNeighborsClassifier())]),\n",
              "             n_jobs=-1,\n",
              "             param_grid={&#x27;classifier__metric&#x27;: [&#x27;euclidean&#x27;, &#x27;manhattan&#x27;],\n",
              "                         &#x27;classifier__n_neighbors&#x27;: [3, 5, 7, 9],\n",
              "                         &#x27;classifier__weights&#x27;: [&#x27;uniform&#x27;, &#x27;distance&#x27;]},\n",
              "             scoring=&#x27;roc_auc&#x27;, verbose=1)</pre><b>In a Jupyter environment, please rerun this cell to show the HTML representation or trust the notebook. <br />On GitHub, the HTML representation is unable to render, please try loading this page with nbviewer.org.</b></div><div class=\"sk-container\" hidden><div class=\"sk-item sk-dashed-wrapped\"><div class=\"sk-label-container\"><div class=\"sk-label fitted sk-toggleable\"><input class=\"sk-toggleable__control sk-hidden--visually\" id=\"sk-estimator-id-11\" type=\"checkbox\" ><label for=\"sk-estimator-id-11\" class=\"sk-toggleable__label fitted sk-toggleable__label-arrow\"><div><div>GridSearchCV</div></div><div><a class=\"sk-estimator-doc-link fitted\" rel=\"noreferrer\" target=\"_blank\" href=\"https://scikit-learn.org/1.6/modules/generated/sklearn.model_selection.GridSearchCV.html\">?<span>Documentation for GridSearchCV</span></a><span class=\"sk-estimator-doc-link fitted\">i<span>Fitted</span></span></div></label><div class=\"sk-toggleable__content fitted\"><pre>GridSearchCV(cv=StratifiedKFold(n_splits=5, random_state=42, shuffle=True),\n",
              "             estimator=Pipeline(steps=[(&#x27;preprocessor&#x27;,\n",
              "                                        ColumnTransformer(transformers=[(&#x27;num_norm&#x27;,\n",
              "                                                                         Pipeline(steps=[(&#x27;imputer&#x27;,\n",
              "                                                                                          SimpleImputer(strategy=&#x27;median&#x27;)),\n",
              "                                                                                         (&#x27;scaler&#x27;,\n",
              "                                                                                          StandardScaler())]),\n",
              "                                                                         [&#x27;stock_quantity&#x27;,\n",
              "                                                                          &#x27;customer_rating&#x27;]),\n",
              "                                                                        (&#x27;num_ext&#x27;,\n",
              "                                                                         Pipeline(steps=[(&#x27;imputer&#x27;,\n",
              "                                                                                          SimpleImputer(strategy=&#x27;...\n",
              "                                                                                          OneHotEncoder(handle_unknown=&#x27;ignore&#x27;,\n",
              "                                                                                                        sparse_output=False))]),\n",
              "                                                                         [&#x27;category&#x27;,\n",
              "                                                                          &#x27;brand&#x27;,\n",
              "                                                                          &#x27;season&#x27;,\n",
              "                                                                          &#x27;size&#x27;,\n",
              "                                                                          &#x27;color&#x27;])])),\n",
              "                                       (&#x27;smote&#x27;, SMOTE(random_state=42)),\n",
              "                                       (&#x27;classifier&#x27;, KNeighborsClassifier())]),\n",
              "             n_jobs=-1,\n",
              "             param_grid={&#x27;classifier__metric&#x27;: [&#x27;euclidean&#x27;, &#x27;manhattan&#x27;],\n",
              "                         &#x27;classifier__n_neighbors&#x27;: [3, 5, 7, 9],\n",
              "                         &#x27;classifier__weights&#x27;: [&#x27;uniform&#x27;, &#x27;distance&#x27;]},\n",
              "             scoring=&#x27;roc_auc&#x27;, verbose=1)</pre></div> </div></div><div class=\"sk-parallel\"><div class=\"sk-parallel-item\"><div class=\"sk-item\"><div class=\"sk-label-container\"><div class=\"sk-label fitted sk-toggleable\"><input class=\"sk-toggleable__control sk-hidden--visually\" id=\"sk-estimator-id-12\" type=\"checkbox\" ><label for=\"sk-estimator-id-12\" class=\"sk-toggleable__label fitted sk-toggleable__label-arrow\"><div><div>best_estimator_: Pipeline</div></div></label><div class=\"sk-toggleable__content fitted\"><pre>Pipeline(steps=[(&#x27;preprocessor&#x27;,\n",
              "                 ColumnTransformer(transformers=[(&#x27;num_norm&#x27;,\n",
              "                                                  Pipeline(steps=[(&#x27;imputer&#x27;,\n",
              "                                                                   SimpleImputer(strategy=&#x27;median&#x27;)),\n",
              "                                                                  (&#x27;scaler&#x27;,\n",
              "                                                                   StandardScaler())]),\n",
              "                                                  [&#x27;stock_quantity&#x27;,\n",
              "                                                   &#x27;customer_rating&#x27;]),\n",
              "                                                 (&#x27;num_ext&#x27;,\n",
              "                                                  Pipeline(steps=[(&#x27;imputer&#x27;,\n",
              "                                                                   SimpleImputer(strategy=&#x27;median&#x27;)),\n",
              "                                                                  (&#x27;scaler&#x27;,\n",
              "                                                                   RobustScaler())]),\n",
              "                                                  [&#x27;original_price&#x27;,\n",
              "                                                   &#x27;markdown_percentage&#x27;]),\n",
              "                                                 (&#x27;cat&#x27;,\n",
              "                                                  Pipeline(steps=[(&#x27;imputer&#x27;,\n",
              "                                                                   SimpleImputer(strategy=&#x27;most_frequent&#x27;)),\n",
              "                                                                  (&#x27;onehot&#x27;,\n",
              "                                                                   OneHotEncoder(handle_unknown=&#x27;ignore&#x27;,\n",
              "                                                                                 sparse_output=False))]),\n",
              "                                                  [&#x27;category&#x27;, &#x27;brand&#x27;,\n",
              "                                                   &#x27;season&#x27;, &#x27;size&#x27;,\n",
              "                                                   &#x27;color&#x27;])])),\n",
              "                (&#x27;smote&#x27;, SMOTE(random_state=42)),\n",
              "                (&#x27;classifier&#x27;,\n",
              "                 KNeighborsClassifier(metric=&#x27;manhattan&#x27;, n_neighbors=7,\n",
              "                                      weights=&#x27;distance&#x27;))])</pre></div> </div></div><div class=\"sk-serial\"><div class=\"sk-item\"><div class=\"sk-serial\"><div class=\"sk-item sk-dashed-wrapped\"><div class=\"sk-label-container\"><div class=\"sk-label fitted sk-toggleable\"><input class=\"sk-toggleable__control sk-hidden--visually\" id=\"sk-estimator-id-13\" type=\"checkbox\" ><label for=\"sk-estimator-id-13\" class=\"sk-toggleable__label fitted sk-toggleable__label-arrow\"><div><div>preprocessor: ColumnTransformer</div></div><div><a class=\"sk-estimator-doc-link fitted\" rel=\"noreferrer\" target=\"_blank\" href=\"https://scikit-learn.org/1.6/modules/generated/sklearn.compose.ColumnTransformer.html\">?<span>Documentation for preprocessor: ColumnTransformer</span></a></div></label><div class=\"sk-toggleable__content fitted\"><pre>ColumnTransformer(transformers=[(&#x27;num_norm&#x27;,\n",
              "                                 Pipeline(steps=[(&#x27;imputer&#x27;,\n",
              "                                                  SimpleImputer(strategy=&#x27;median&#x27;)),\n",
              "                                                 (&#x27;scaler&#x27;, StandardScaler())]),\n",
              "                                 [&#x27;stock_quantity&#x27;, &#x27;customer_rating&#x27;]),\n",
              "                                (&#x27;num_ext&#x27;,\n",
              "                                 Pipeline(steps=[(&#x27;imputer&#x27;,\n",
              "                                                  SimpleImputer(strategy=&#x27;median&#x27;)),\n",
              "                                                 (&#x27;scaler&#x27;, RobustScaler())]),\n",
              "                                 [&#x27;original_price&#x27;, &#x27;markdown_percentage&#x27;]),\n",
              "                                (&#x27;cat&#x27;,\n",
              "                                 Pipeline(steps=[(&#x27;imputer&#x27;,\n",
              "                                                  SimpleImputer(strategy=&#x27;most_frequent&#x27;)),\n",
              "                                                 (&#x27;onehot&#x27;,\n",
              "                                                  OneHotEncoder(handle_unknown=&#x27;ignore&#x27;,\n",
              "                                                                sparse_output=False))]),\n",
              "                                 [&#x27;category&#x27;, &#x27;brand&#x27;, &#x27;season&#x27;, &#x27;size&#x27;,\n",
              "                                  &#x27;color&#x27;])])</pre></div> </div></div><div class=\"sk-parallel\"><div class=\"sk-parallel-item\"><div class=\"sk-item\"><div class=\"sk-label-container\"><div class=\"sk-label fitted sk-toggleable\"><input class=\"sk-toggleable__control sk-hidden--visually\" id=\"sk-estimator-id-14\" type=\"checkbox\" ><label for=\"sk-estimator-id-14\" class=\"sk-toggleable__label fitted sk-toggleable__label-arrow\"><div><div>num_norm</div></div></label><div class=\"sk-toggleable__content fitted\"><pre>[&#x27;stock_quantity&#x27;, &#x27;customer_rating&#x27;]</pre></div> </div></div><div class=\"sk-serial\"><div class=\"sk-item\"><div class=\"sk-serial\"><div class=\"sk-item\"><div class=\"sk-estimator fitted sk-toggleable\"><input class=\"sk-toggleable__control sk-hidden--visually\" id=\"sk-estimator-id-15\" type=\"checkbox\" ><label for=\"sk-estimator-id-15\" class=\"sk-toggleable__label fitted sk-toggleable__label-arrow\"><div><div>SimpleImputer</div></div><div><a class=\"sk-estimator-doc-link fitted\" rel=\"noreferrer\" target=\"_blank\" href=\"https://scikit-learn.org/1.6/modules/generated/sklearn.impute.SimpleImputer.html\">?<span>Documentation for SimpleImputer</span></a></div></label><div class=\"sk-toggleable__content fitted\"><pre>SimpleImputer(strategy=&#x27;median&#x27;)</pre></div> </div></div><div class=\"sk-item\"><div class=\"sk-estimator fitted sk-toggleable\"><input class=\"sk-toggleable__control sk-hidden--visually\" id=\"sk-estimator-id-16\" type=\"checkbox\" ><label for=\"sk-estimator-id-16\" class=\"sk-toggleable__label fitted sk-toggleable__label-arrow\"><div><div>StandardScaler</div></div><div><a class=\"sk-estimator-doc-link fitted\" rel=\"noreferrer\" target=\"_blank\" href=\"https://scikit-learn.org/1.6/modules/generated/sklearn.preprocessing.StandardScaler.html\">?<span>Documentation for StandardScaler</span></a></div></label><div class=\"sk-toggleable__content fitted\"><pre>StandardScaler()</pre></div> </div></div></div></div></div></div></div><div class=\"sk-parallel-item\"><div class=\"sk-item\"><div class=\"sk-label-container\"><div class=\"sk-label fitted sk-toggleable\"><input class=\"sk-toggleable__control sk-hidden--visually\" id=\"sk-estimator-id-17\" type=\"checkbox\" ><label for=\"sk-estimator-id-17\" class=\"sk-toggleable__label fitted sk-toggleable__label-arrow\"><div><div>num_ext</div></div></label><div class=\"sk-toggleable__content fitted\"><pre>[&#x27;original_price&#x27;, &#x27;markdown_percentage&#x27;]</pre></div> </div></div><div class=\"sk-serial\"><div class=\"sk-item\"><div class=\"sk-serial\"><div class=\"sk-item\"><div class=\"sk-estimator fitted sk-toggleable\"><input class=\"sk-toggleable__control sk-hidden--visually\" id=\"sk-estimator-id-18\" type=\"checkbox\" ><label for=\"sk-estimator-id-18\" class=\"sk-toggleable__label fitted sk-toggleable__label-arrow\"><div><div>SimpleImputer</div></div><div><a class=\"sk-estimator-doc-link fitted\" rel=\"noreferrer\" target=\"_blank\" href=\"https://scikit-learn.org/1.6/modules/generated/sklearn.impute.SimpleImputer.html\">?<span>Documentation for SimpleImputer</span></a></div></label><div class=\"sk-toggleable__content fitted\"><pre>SimpleImputer(strategy=&#x27;median&#x27;)</pre></div> </div></div><div class=\"sk-item\"><div class=\"sk-estimator fitted sk-toggleable\"><input class=\"sk-toggleable__control sk-hidden--visually\" id=\"sk-estimator-id-19\" type=\"checkbox\" ><label for=\"sk-estimator-id-19\" class=\"sk-toggleable__label fitted sk-toggleable__label-arrow\"><div><div>RobustScaler</div></div><div><a class=\"sk-estimator-doc-link fitted\" rel=\"noreferrer\" target=\"_blank\" href=\"https://scikit-learn.org/1.6/modules/generated/sklearn.preprocessing.RobustScaler.html\">?<span>Documentation for RobustScaler</span></a></div></label><div class=\"sk-toggleable__content fitted\"><pre>RobustScaler()</pre></div> </div></div></div></div></div></div></div><div class=\"sk-parallel-item\"><div class=\"sk-item\"><div class=\"sk-label-container\"><div class=\"sk-label fitted sk-toggleable\"><input class=\"sk-toggleable__control sk-hidden--visually\" id=\"sk-estimator-id-20\" type=\"checkbox\" ><label for=\"sk-estimator-id-20\" class=\"sk-toggleable__label fitted sk-toggleable__label-arrow\"><div><div>cat</div></div></label><div class=\"sk-toggleable__content fitted\"><pre>[&#x27;category&#x27;, &#x27;brand&#x27;, &#x27;season&#x27;, &#x27;size&#x27;, &#x27;color&#x27;]</pre></div> </div></div><div class=\"sk-serial\"><div class=\"sk-item\"><div class=\"sk-serial\"><div class=\"sk-item\"><div class=\"sk-estimator fitted sk-toggleable\"><input class=\"sk-toggleable__control sk-hidden--visually\" id=\"sk-estimator-id-21\" type=\"checkbox\" ><label for=\"sk-estimator-id-21\" class=\"sk-toggleable__label fitted sk-toggleable__label-arrow\"><div><div>SimpleImputer</div></div><div><a class=\"sk-estimator-doc-link fitted\" rel=\"noreferrer\" target=\"_blank\" href=\"https://scikit-learn.org/1.6/modules/generated/sklearn.impute.SimpleImputer.html\">?<span>Documentation for SimpleImputer</span></a></div></label><div class=\"sk-toggleable__content fitted\"><pre>SimpleImputer(strategy=&#x27;most_frequent&#x27;)</pre></div> </div></div><div class=\"sk-item\"><div class=\"sk-estimator fitted sk-toggleable\"><input class=\"sk-toggleable__control sk-hidden--visually\" id=\"sk-estimator-id-22\" type=\"checkbox\" ><label for=\"sk-estimator-id-22\" class=\"sk-toggleable__label fitted sk-toggleable__label-arrow\"><div><div>OneHotEncoder</div></div><div><a class=\"sk-estimator-doc-link fitted\" rel=\"noreferrer\" target=\"_blank\" href=\"https://scikit-learn.org/1.6/modules/generated/sklearn.preprocessing.OneHotEncoder.html\">?<span>Documentation for OneHotEncoder</span></a></div></label><div class=\"sk-toggleable__content fitted\"><pre>OneHotEncoder(handle_unknown=&#x27;ignore&#x27;, sparse_output=False)</pre></div> </div></div></div></div></div></div></div></div></div><div class=\"sk-item\"><div class=\"sk-estimator fitted sk-toggleable\"><input class=\"sk-toggleable__control sk-hidden--visually\" id=\"sk-estimator-id-23\" type=\"checkbox\" ><label for=\"sk-estimator-id-23\" class=\"sk-toggleable__label fitted sk-toggleable__label-arrow\"><div><div>SMOTE</div></div></label><div class=\"sk-toggleable__content fitted\"><pre>SMOTE(random_state=42)</pre></div> </div></div><div class=\"sk-item\"><div class=\"sk-estimator fitted sk-toggleable\"><input class=\"sk-toggleable__control sk-hidden--visually\" id=\"sk-estimator-id-24\" type=\"checkbox\" ><label for=\"sk-estimator-id-24\" class=\"sk-toggleable__label fitted sk-toggleable__label-arrow\"><div><div>KNeighborsClassifier</div></div><div><a class=\"sk-estimator-doc-link fitted\" rel=\"noreferrer\" target=\"_blank\" href=\"https://scikit-learn.org/1.6/modules/generated/sklearn.neighbors.KNeighborsClassifier.html\">?<span>Documentation for KNeighborsClassifier</span></a></div></label><div class=\"sk-toggleable__content fitted\"><pre>KNeighborsClassifier(metric=&#x27;manhattan&#x27;, n_neighbors=7, weights=&#x27;distance&#x27;)</pre></div> </div></div></div></div></div></div></div></div></div></div></div>"
            ],
            "text/plain": [
              "GridSearchCV(cv=StratifiedKFold(n_splits=5, random_state=42, shuffle=True),\n",
              "             estimator=Pipeline(steps=[('preprocessor',\n",
              "                                        ColumnTransformer(transformers=[('num_norm',\n",
              "                                                                         Pipeline(steps=[('imputer',\n",
              "                                                                                          SimpleImputer(strategy='median')),\n",
              "                                                                                         ('scaler',\n",
              "                                                                                          StandardScaler())]),\n",
              "                                                                         ['stock_quantity',\n",
              "                                                                          'customer_rating']),\n",
              "                                                                        ('num_ext',\n",
              "                                                                         Pipeline(steps=[('imputer',\n",
              "                                                                                          SimpleImputer(strategy='...\n",
              "                                                                                          OneHotEncoder(handle_unknown='ignore',\n",
              "                                                                                                        sparse_output=False))]),\n",
              "                                                                         ['category',\n",
              "                                                                          'brand',\n",
              "                                                                          'season',\n",
              "                                                                          'size',\n",
              "                                                                          'color'])])),\n",
              "                                       ('smote', SMOTE(random_state=42)),\n",
              "                                       ('classifier', KNeighborsClassifier())]),\n",
              "             n_jobs=-1,\n",
              "             param_grid={'classifier__metric': ['euclidean', 'manhattan'],\n",
              "                         'classifier__n_neighbors': [3, 5, 7, 9],\n",
              "                         'classifier__weights': ['uniform', 'distance']},\n",
              "             scoring='roc_auc', verbose=1)"
            ]
          },
          "execution_count": 30,
          "metadata": {},
          "output_type": "execute_result"
        }
      ],
      "source": [
        "#Hyperparameter tuning\n",
        "knn_pipeline = ImbPipeline(steps=[\n",
        "    ('preprocessor', preprocessor),\n",
        "    ('smote', SMOTE(random_state=42)),\n",
        "    ('classifier', KNeighborsClassifier())\n",
        "])  \n",
        "\n",
        "\n",
        "param_grid = {\n",
        "    'classifier__n_neighbors': [3, 5, 7, 9],\n",
        "    'classifier__weights': ['uniform', 'distance'],\n",
        "    'classifier__metric': ['euclidean', 'manhattan']\n",
        "}\n",
        "\n",
        "grid_search = GridSearchCV(knn_pipeline, param_grid, cv=cv, scoring='roc_auc', n_jobs=-1, verbose=1)\n",
        "grid_search.fit(X_train, y_train)"
      ]
    },
    {
      "cell_type": "code",
      "execution_count": 31,
      "metadata": {
        "colab": {
          "base_uri": "https://localhost:8080/"
        },
        "id": "mpOHhczbhRR-",
        "outputId": "d52beafd-916c-4bab-d342-44609c9b233e"
      },
      "outputs": [
        {
          "name": "stdout",
          "output_type": "stream",
          "text": [
            "Best Parameters: {'classifier__metric': 'manhattan', 'classifier__n_neighbors': 7, 'classifier__weights': 'distance'}\n",
            "Best ROC-AUC: 0.5479\n",
            "\n",
            "--- Perbandingan Performa ---\n",
            "Baseline ROC-AUC (KNN): 0.5115\n",
            "Tuned ROC-AUC (KNN): 0.5479\n"
          ]
        }
      ],
      "source": [
        "print(f'Best Parameters: {grid_search.best_params_}')\n",
        "print(f'Best ROC-AUC: {grid_search.best_score_:.4f}')\n",
        "\n",
        "print(\"\\n--- Perbandingan Performa ---\")\n",
        "print(f\"Baseline ROC-AUC (KNN): {results['KNN']['mean_roc_auc']:.4f}\")\n",
        "print(f\"Tuned ROC-AUC (KNN): {grid_search.best_score_:.4f}\")"
      ]
    },
    {
      "cell_type": "markdown",
      "metadata": {
        "id": "fScw_mJmnrOp"
      },
      "source": [
        "ROC-AUC mengalami kenaikan dari 0.5115 ke 0.5479 setelah di tuning"
      ]
    },
    {
      "cell_type": "markdown",
      "metadata": {
        "id": "lYalJk_S356S"
      },
      "source": [
        "# Model Evaluation"
      ]
    },
    {
      "cell_type": "code",
      "execution_count": 32,
      "metadata": {
        "colab": {
          "base_uri": "https://localhost:8080/"
        },
        "id": "6SqNuB_VmA_Q",
        "outputId": "4178aeef-db21-4703-ce23-5887ddc78377"
      },
      "outputs": [
        {
          "name": "stdout",
          "output_type": "stream",
          "text": [
            "ROC-AUC: 0.48\n"
          ]
        }
      ],
      "source": [
        "y_score = grid_search.predict_proba(X_test)[:, 1]\n",
        "y_pred = (y_score >= 0.5)\n",
        "print(f'ROC-AUC: {roc_auc_score(y_test, y_score):.2f}')"
      ]
    },
    {
      "cell_type": "markdown",
      "metadata": {
        "id": "aTHK9kfux9-3"
      },
      "source": [
        "Test ROC AUC menunjukan nilai 0.48 yang dimana berarti kombinasinya lemah"
      ]
    },
    {
      "cell_type": "code",
      "execution_count": 33,
      "metadata": {
        "colab": {
          "base_uri": "https://localhost:8080/"
        },
        "id": "fcZtfd-TkXWK",
        "outputId": "c300e806-a86b-4912-de25-d29cfe725c70"
      },
      "outputs": [
        {
          "name": "stdout",
          "output_type": "stream",
          "text": [
            "              precision    recall  f1-score   support\n",
            "\n",
            "   No Return       0.85      0.73      0.78       372\n",
            "      Return       0.14      0.27      0.19        64\n",
            "\n",
            "    accuracy                           0.66       436\n",
            "   macro avg       0.50      0.50      0.48       436\n",
            "weighted avg       0.75      0.66      0.70       436\n",
            "\n"
          ]
        }
      ],
      "source": [
        "#classification report\n",
        "print(classification_report(y_test, y_pred, target_names=[\"No Return\", \"Return\"]))"
      ]
    },
    {
      "cell_type": "markdown",
      "metadata": {
        "id": "1mYXl0W7x6W1"
      },
      "source": [
        "**INSIGHT**\n",
        "1. Recall pada Return, Model hanya berhasil menebak 27% di antaranya. Ini menunjukan, 73% produk yang akhirnya diretur gagal diprediksi oleh model\n",
        "2. Precision pada Return, Ketika model memprediksi sebuah produk akan diretur, ternyata hanya 14% dari prediksi tersebut yang benar-benar diretur. Sisanya 86% model tidak model tidak dapat melakukan prediksi secara presisi\n"
      ]
    },
    {
      "cell_type": "code",
      "execution_count": 34,
      "metadata": {
        "colab": {
          "base_uri": "https://localhost:8080/"
        },
        "id": "-knKLVeTkWiz",
        "outputId": "99d1744f-e152-47f1-d63b-5333a104a273"
      },
      "outputs": [
        {
          "name": "stdout",
          "output_type": "stream",
          "text": [
            "                 Pred_NoReturn  Pred_Return\n",
            "Actual_NoReturn            270          102\n",
            "Actual_Return               47           17\n"
          ]
        }
      ],
      "source": [
        "# Confusion Matrix\n",
        "cm = confusion_matrix(y_test, y_pred)\n",
        "cm_df = pd.DataFrame(cm,\n",
        "                     index=['Actual_NoReturn','Actual_Return'],\n",
        "                     columns=['Pred_NoReturn','Pred_Return'])\n",
        "\n",
        "print(cm_df)"
      ]
    },
    {
      "cell_type": "markdown",
      "metadata": {
        "id": "BdojM3SZz0yw"
      },
      "source": [
        "**INSIGHT**\n",
        "1. TN = 270 artinya dari total produk yang sebenarnya tidak diretur, model berhasil memprediksi dengan benar 270 produk tidak akan dikembalikan. Ini adalah prediksi yang benar\n",
        "2. FP = 120 artinya ada 102 produk yang sebenarnya tidak diretur, tetapi model salah memprediksi sebagai produk yang akan dikembalikan\n",
        "3. FN = 47 artinya ada 47 produk yang sebenarnya diretur, tetapi model salah memprediksi sebagai produk yang tidak akan dikembalikan\n",
        "4. TP = 17  artinya dari total produk yang sebenarnya diretur, model hanya berhasil memprediksi dengan benar 17 produk yang akan dikembalikan. Ini menunjukkan lemahnya kemampuan model dalam mengidentifikasi produk yang akan di retur"
      ]
    },
    {
      "cell_type": "markdown",
      "metadata": {
        "id": "l8I71agQ4ESW"
      },
      "source": [
        "# Model Saving"
      ]
    },
    {
      "cell_type": "code",
      "execution_count": 35,
      "metadata": {
        "colab": {
          "base_uri": "https://localhost:8080/"
        },
        "id": "UtG-1vzJ1zX-",
        "outputId": "e51d6688-ed84-4975-f548-c19c6b8260b3"
      },
      "outputs": [
        {
          "data": {
            "text/plain": [
              "['knn_tuned_pipeline.pkl']"
            ]
          },
          "execution_count": 35,
          "metadata": {},
          "output_type": "execute_result"
        }
      ],
      "source": [
        "joblib.dump(grid_search, \"knn_tuned_pipeline.pkl\") "
      ]
    },
    {
      "cell_type": "markdown",
      "metadata": {
        "id": "72qn9p51xpP8"
      },
      "source": [
        "# Kesimpulan"
      ]
    },
    {
      "cell_type": "markdown",
      "metadata": {
        "id": "IEhDXfYL0nwD"
      },
      "source": [
        "Berdasarkan analisis dan pengujian model, dapat disimpulkan bahwa model yang telah dibangun belum optimal dalam memprediksi produk yang akan diretur. Hal ini disebabkan oleh beberapa faktor \n",
        "- Uji korelasi menunjukkan bahwa variabel numerik seperti harga, diskon, dan stok memiliki korelasi yang sangat lemah dengan tingkat retur.\n",
        "- Uji Chi-Square juga menunjukan bahwa variabel kategorikal seperti kategori produk, merek, musim, ukuran, dan warna tidak memiliki hubungan signifikan dengan status retur\n",
        "- Pada tahap cross-validation, performa semua model menunjukkan nilai ROC-AUC yang sangat rendah, mendekati 0.5. Angka ini menandakan model memiliki kemampuan prediksi yang setara dengan tebakan acak. Meskipun setelah tuning performa model KNN naik dari 0.5115 ke 0.5479, peningkatan ini masih tergolong kecil dan belum efektif.\n",
        "- Saat diuji pada test set, nilai ROC-AUC turun ke 0.46. Penurunan ini menunjukkan model tidak stabil dan gagal melakukan generalisasi pada data baru\n",
        "- Meskipun telah dilakukan penyeimbangan data menggunakan SMOTE, model ini belum berhasil menemukan pola yang relevan dari atribut yang ada"
      ]
    }
  ],
  "metadata": {
    "colab": {
      "provenance": []
    },
    "kernelspec": {
      "display_name": "phase_0",
      "language": "python",
      "name": "python3"
    },
    "language_info": {
      "codemirror_mode": {
        "name": "ipython",
        "version": 3
      },
      "file_extension": ".py",
      "mimetype": "text/x-python",
      "name": "python",
      "nbconvert_exporter": "python",
      "pygments_lexer": "ipython3",
      "version": "3.10.16"
    }
  },
  "nbformat": 4,
  "nbformat_minor": 0
}
